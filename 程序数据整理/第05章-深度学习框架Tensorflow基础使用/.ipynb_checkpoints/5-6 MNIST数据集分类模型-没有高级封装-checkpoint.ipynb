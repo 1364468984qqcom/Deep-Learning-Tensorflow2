{
 "cells": [
  {
   "cell_type": "code",
   "execution_count": 9,
   "metadata": {},
   "outputs": [],
   "source": [
    "import tensorflow as tf"
   ]
  },
  {
   "cell_type": "code",
   "execution_count": 10,
   "metadata": {},
   "outputs": [
    {
     "name": "stdout",
     "output_type": "stream",
     "text": [
      "(60000, 28, 28) (60000,)\n"
     ]
    }
   ],
   "source": [
    "# 载入数据集\n",
    "mnist = tf.keras.datasets.mnist\n",
    "# 载入数据，数据载入的时候就已经划分好训练集和测试集\n",
    "# 训练集数据x_train的数据形状为（60000，28，28）\n",
    "# 训练集标签y_train的数据形状为（60000）\n",
    "# 测试集数据x_test的数据形状为（10000，28，28）\n",
    "# 测试集标签y_test的数据形状为（10000）\n",
    "(x_train, y_train), (x_test, y_test) = mnist.load_data()\n",
    "# 对训练集和测试集的数据进行归一化处理，有助于提升模型训练速度\n",
    "x_train, x_test = x_train / 255.0, x_test / 255.0\n",
    "# 把训练集和测试集的标签转为独热编码\n",
    "y_train = tf.keras.utils.to_categorical(y_train,num_classes=10)\n",
    "y_test = tf.keras.utils.to_categorical(y_test,num_classes=10)"
   ]
  },
  {
   "cell_type": "code",
   "execution_count": 11,
   "metadata": {},
   "outputs": [],
   "source": [
    "# 创建dataset对象，使用dataset对象来管理数据\n",
    "mnist_train = tf.data.Dataset.from_tensor_slices((x_train, y_train))\n",
    "# 训练周期设置为1（把所有训练集数据训练一次称为训练一个周期）\n",
    "mnist_train = mnist_train.repeat(1)\n",
    "# 批次大小设置为32（每次训练模型传入32个数据进行训练）\n",
    "mnist_train = mnist_train.batch(32)\n",
    "\n",
    "# 创建dataset对象，使用dataset对象来管理数据\n",
    "mnist_test = tf.data.Dataset.from_tensor_slices((x_test, y_test))\n",
    "# 训练周期设置为1（把所有训练集数据训练一次称为训练一个周期）\n",
    "mnist_test = mnist_test.repeat(1)\n",
    "# 批次大小设置为32（每次训练模型传入32个数据进行训练）\n",
    "mnist_test = mnist_test.batch(32)"
   ]
  },
  {
   "cell_type": "code",
   "execution_count": 12,
   "metadata": {},
   "outputs": [],
   "source": [
    "# 模型定义\n",
    "# 先用Flatten把数据从3维变成2维，(60000,28,28)->(60000,784)\n",
    "# 设置输入数据形状input_shape不需要包含数据的数量，（28,28）即可\n",
    "model = tf.keras.models.Sequential([\n",
    "  tf.keras.layers.Flatten(input_shape=(28, 28)),\n",
    "  tf.keras.layers.Dense(10, activation='softmax')\n",
    "])\n",
    "# 优化器定义\n",
    "optimizer = tf.keras.optimizers.SGD(0.1)\n",
    "# 计算平均值\n",
    "train_loss = tf.keras.metrics.Mean(name='train_loss')\n",
    "# 训练准确率计算\n",
    "train_accuracy = tf.keras.metrics.CategoricalAccuracy(name='train_accuracy')\n",
    "# 计算平均值\n",
    "test_loss = tf.keras.metrics.Mean(name='test_loss')\n",
    "# 测试准确率计算\n",
    "test_accuracy = tf.keras.metrics.CategoricalAccuracy(name='test_accuracy')"
   ]
  },
  {
   "cell_type": "code",
   "execution_count": 13,
   "metadata": {},
   "outputs": [],
   "source": [
    "# 我们可以用@tf.function装饰器来将python代码转成tensorflow的图表示代码，用于加速代码运行速度\n",
    "# 定义一个训练模型的函数\n",
    "@tf.function\n",
    "def train_step(data, label):\n",
    "    # 固定写法，使用tf.GradientTape()来计算梯度\n",
    "    with tf.GradientTape() as tape:\n",
    "        # 传入数据获得模型预测结果\n",
    "        predictions = model(data)\n",
    "        # 对比label和predictions计算loss\n",
    "        loss = tf.keras.losses.MSE(label, predictions)\n",
    "        # 传入loss和模型参数，计算权值调整\n",
    "        gradients = tape.gradient(loss, model.trainable_variables)\n",
    "        # 进行权值调整\n",
    "        optimizer.apply_gradients(zip(gradients, model.trainable_variables))\n",
    "        # 计算平均loss\n",
    "        train_loss(loss)\n",
    "        # 计算平均准确率\n",
    "        train_accuracy(label, predictions)\n",
    "    \n",
    "# 我们可以用@tf.function装饰器来将python代码转成tensorflow的图表示代码，用于加速代码运行速度\n",
    "# 定义一个模型测试的函数\n",
    "@tf.function\n",
    "def test_step(data, label):\n",
    "    # 传入数据获得模型预测结果\n",
    "    predictions = model(data)\n",
    "    # 对比label和predictions计算loss\n",
    "    t_loss = tf.keras.losses.MSE(label, predictions)\n",
    "    # 计算平均loss\n",
    "    test_loss(t_loss)\n",
    "    # 计算平均准确率\n",
    "    test_accuracy(label, predictions)"
   ]
  },
  {
   "cell_type": "code",
   "execution_count": 14,
   "metadata": {},
   "outputs": [
    {
     "name": "stderr",
     "output_type": "stream",
     "text": [
      "W1217 22:17:41.499665 4362104256 base_layer.py:1814] Layer flatten_1 is casting an input tensor from dtype float64 to the layer's dtype of float32, which is new behavior in TensorFlow 2.  The layer has dtype float32 because it's dtype defaults to floatx.\n",
      "\n",
      "If you intended to run this layer in float32, you can safely ignore this warning. If in doubt, this warning is likely only an issue if you are porting a TensorFlow 1.X model to TensorFlow 2.\n",
      "\n",
      "To change all layers to have dtype float64 by default, call `tf.keras.backend.set_floatx('float64')`. To change just this layer, pass dtype='float64' to the layer constructor. If you are the author of this layer, you can disable autocasting by passing autocast=False to the base Layer constructor.\n",
      "\n"
     ]
    },
    {
     "name": "stdout",
     "output_type": "stream",
     "text": [
      "Epoch 1, Loss: 0.017, Accuracy: 0.892, Test Loss: 0.0138, Test Accuracy: 0.909\n",
      "Epoch 2, Loss: 0.015, Accuracy: 0.905, Test Loss: 0.0134, Test Accuracy: 0.911\n",
      "Epoch 3, Loss: 0.014, Accuracy: 0.911, Test Loss: 0.0131, Test Accuracy: 0.913\n",
      "Epoch 4, Loss: 0.0134, Accuracy: 0.914, Test Loss: 0.0129, Test Accuracy: 0.915\n",
      "Epoch 5, Loss: 0.013, Accuracy: 0.917, Test Loss: 0.0127, Test Accuracy: 0.916\n",
      "Epoch 6, Loss: 0.0127, Accuracy: 0.919, Test Loss: 0.0126, Test Accuracy: 0.917\n",
      "Epoch 7, Loss: 0.0125, Accuracy: 0.921, Test Loss: 0.0125, Test Accuracy: 0.918\n",
      "Epoch 8, Loss: 0.0123, Accuracy: 0.922, Test Loss: 0.0124, Test Accuracy: 0.919\n",
      "Epoch 9, Loss: 0.0121, Accuracy: 0.923, Test Loss: 0.0123, Test Accuracy: 0.919\n",
      "Epoch 10, Loss: 0.0119, Accuracy: 0.924, Test Loss: 0.0122, Test Accuracy: 0.92\n"
     ]
    }
   ],
   "source": [
    "# 训练10个周期（把所有训练集数据训练一次称为训练一个周期）\n",
    "EPOCHS = 10\n",
    "\n",
    "for epoch in range(EPOCHS):\n",
    "    # 训练集循环60000/32=1875次\n",
    "    for image, label in mnist_train:\n",
    "        # 每次循环传入一个批次的数据和标签训练模型\n",
    "        train_step(image, label)\n",
    "    # 测试集循环10000/32=312.5->313次\n",
    "    for test_image, test_label in mnist_test:\n",
    "        # 每次循环传入一个批次的数据和标签进行测试\n",
    "        test_step(test_image, test_label)\n",
    "  \n",
    "    # 打印结果\n",
    "    template = 'Epoch {}, Loss: {:.3}, Accuracy: {:.3}, Test Loss: {:.3}, Test Accuracy: {:.3}'\n",
    "    print(template.format(epoch+1,\n",
    "                          train_loss.result(), \n",
    "                          train_accuracy.result(),\n",
    "                          test_loss.result(), \n",
    "                          test_accuracy.result()))\n",
    "  "
   ]
  },
  {
   "cell_type": "code",
   "execution_count": null,
   "metadata": {},
   "outputs": [],
   "source": []
  }
 ],
 "metadata": {
  "anaconda-cloud": {},
  "kernelspec": {
   "display_name": "Python 3",
   "language": "python",
   "name": "python3"
  },
  "language_info": {
   "codemirror_mode": {
    "name": "ipython",
    "version": 3
   },
   "file_extension": ".py",
   "mimetype": "text/x-python",
   "name": "python",
   "nbconvert_exporter": "python",
   "pygments_lexer": "ipython3",
   "version": "3.6.7"
  }
 },
 "nbformat": 4,
 "nbformat_minor": 1
}
