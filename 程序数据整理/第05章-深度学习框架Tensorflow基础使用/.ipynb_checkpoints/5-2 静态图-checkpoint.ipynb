{
 "cells": [
  {
   "cell_type": "code",
   "execution_count": 1,
   "metadata": {},
   "outputs": [
    {
     "name": "stderr",
     "output_type": "stream",
     "text": [
      "/Users/qin/anaconda3/lib/python3.6/site-packages/h5py/__init__.py:36: FutureWarning: Conversion of the second argument of issubdtype from `float` to `np.floating` is deprecated. In future, it will be treated as `np.float64 == np.dtype(float).type`.\n",
      "  from ._conv import register_converters as _register_converters\n"
     ]
    },
    {
     "name": "stdout",
     "output_type": "stream",
     "text": [
      "Tensor(\"MatMul:0\", shape=(1, 1), dtype=int32)\n"
     ]
    }
   ],
   "source": [
    "# 这个程序我是在Tensorflow1的环境中运行的\n",
    "import tensorflow as tf\n",
    "# 创建一个常量\n",
    "m1 = tf.constant([[4,4]])\n",
    "# 创建一个常量\n",
    "m2 = tf.constant([[2],[3]])\n",
    "# 创建一个矩阵乘法，把m1和m2传入\n",
    "product = tf.matmul(m1,m2)\n",
    "# Tensorflow1的程序跟一般的python程序不太一样\n",
    "# 这个时候打印product，只能看到product的属性，不能计算它的值\n",
    "# 应该这里我只定义了计算图，图必须在会话中运行，我们还没有定义会话\n",
    "print(product)"
   ]
  },
  {
   "cell_type": "code",
   "execution_count": 2,
   "metadata": {},
   "outputs": [
    {
     "name": "stdout",
     "output_type": "stream",
     "text": [
      "[[20]]\n"
     ]
    }
   ],
   "source": [
    "# 定义一个会话\n",
    "sess = tf.Session()\n",
    "# 调用sess的run方法来执行矩阵乘法\n",
    "# 计算product，最终计算的结果存放在result中\n",
    "result = sess.run(product)\n",
    "print(result)\n",
    "# 关闭会话\n",
    "sess.close()"
   ]
  }
 ],
 "metadata": {
  "anaconda-cloud": {},
  "kernelspec": {
   "display_name": "Python 3",
   "language": "python",
   "name": "python3"
  },
  "language_info": {
   "codemirror_mode": {
    "name": "ipython",
    "version": 3
   },
   "file_extension": ".py",
   "mimetype": "text/x-python",
   "name": "python",
   "nbconvert_exporter": "python",
   "pygments_lexer": "ipython3",
   "version": "3.6.7"
  }
 },
 "nbformat": 4,
 "nbformat_minor": 1
}
