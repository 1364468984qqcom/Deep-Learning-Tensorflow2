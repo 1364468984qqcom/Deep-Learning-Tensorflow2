{
 "cells": [
  {
   "cell_type": "code",
   "execution_count": 12,
   "metadata": {},
   "outputs": [],
   "source": [
    "import tensorflow as tf\n",
    "from tensorflow.keras.optimizers import SGD"
   ]
  },
  {
   "cell_type": "code",
   "execution_count": 13,
   "metadata": {},
   "outputs": [
    {
     "name": "stdout",
     "output_type": "stream",
     "text": [
      "Train on 60000 samples, validate on 10000 samples\n",
      "Epoch 1/10\n",
      "60000/60000 [==============================] - 2s 34us/sample - loss: 0.0374 - accuracy: 0.7822 - val_loss: 0.0214 - val_accuracy: 0.8802\n",
      "Epoch 2/10\n",
      "60000/60000 [==============================] - 2s 30us/sample - loss: 0.0203 - accuracy: 0.8816 - val_loss: 0.0175 - val_accuracy: 0.8978\n",
      "Epoch 3/10\n",
      "60000/60000 [==============================] - 2s 32us/sample - loss: 0.0177 - accuracy: 0.8932 - val_loss: 0.0160 - val_accuracy: 0.9041\n",
      "Epoch 4/10\n",
      "60000/60000 [==============================] - 2s 31us/sample - loss: 0.0165 - accuracy: 0.8994 - val_loss: 0.0151 - val_accuracy: 0.9070\n",
      "Epoch 5/10\n",
      "60000/60000 [==============================] - 2s 31us/sample - loss: 0.0157 - accuracy: 0.9031 - val_loss: 0.0145 - val_accuracy: 0.9107\n",
      "Epoch 6/10\n",
      "60000/60000 [==============================] - 2s 32us/sample - loss: 0.0151 - accuracy: 0.9063 - val_loss: 0.0140 - val_accuracy: 0.9131\n",
      "Epoch 7/10\n",
      "60000/60000 [==============================] - 2s 33us/sample - loss: 0.0147 - accuracy: 0.9090 - val_loss: 0.0137 - val_accuracy: 0.9145\n",
      "Epoch 8/10\n",
      "60000/60000 [==============================] - 2s 33us/sample - loss: 0.0143 - accuracy: 0.9112 - val_loss: 0.0134 - val_accuracy: 0.9158\n",
      "Epoch 9/10\n",
      "60000/60000 [==============================] - 2s 34us/sample - loss: 0.0140 - accuracy: 0.9122 - val_loss: 0.0132 - val_accuracy: 0.9176\n",
      "Epoch 10/10\n",
      "60000/60000 [==============================] - 2s 36us/sample - loss: 0.0138 - accuracy: 0.9137 - val_loss: 0.0131 - val_accuracy: 0.9184\n"
     ]
    },
    {
     "data": {
      "text/plain": [
       "<tensorflow.python.keras.callbacks.History at 0xb399c8be0>"
      ]
     },
     "execution_count": 13,
     "metadata": {},
     "output_type": "execute_result"
    }
   ],
   "source": [
    "# 载入数据集\n",
    "mnist = tf.keras.datasets.mnist\n",
    "# 载入数据，数据载入的时候就已经划分好训练集和测试集\n",
    "# 训练集数据x_train的数据形状为（60000，28，28）\n",
    "# 训练集标签y_train的数据形状为（60000）\n",
    "# 测试集数据x_test的数据形状为（10000，28，28）\n",
    "# 测试集标签y_test的数据形状为（10000）\n",
    "(x_train, y_train), (x_test, y_test) = mnist.load_data()\n",
    "# 对训练集和测试集的数据进行归一化处理，有助于提升模型训练速度\n",
    "x_train, x_test = x_train / 255.0, x_test / 255.0\n",
    "# 把训练集和测试集的标签转为独热编码\n",
    "y_train = tf.keras.utils.to_categorical(y_train,num_classes=10)\n",
    "y_test = tf.keras.utils.to_categorical(y_test,num_classes=10)\n",
    "\n",
    "# 模型定义\n",
    "# 先用Flatten把数据从3维变成2维，(60000,28,28)->(60000,784)\n",
    "# 设置输入数据形状input_shape不需要包含数据的数量，（28,28）即可\n",
    "model = tf.keras.models.Sequential([\n",
    "  tf.keras.layers.Flatten(input_shape=(28, 28)),\n",
    "  tf.keras.layers.Dense(10, activation='softmax')\n",
    "])\n",
    "\n",
    "# sgd定义随机梯度下降法优化器\n",
    "# loss='mse'定义均方差代价函数\n",
    "# metrics=['accuracy']模型在训练的过程中同时计算准确率\n",
    "sgd = SGD(0.2)\n",
    "model.compile(optimizer=sgd,\n",
    "              loss='mse',\n",
    "              metrics=['accuracy'])\n",
    "\n",
    "# 传入训练集数据和标签训练模型\n",
    "# 周期大小为10（把所有训练集数据训练一次称为训练一个周期）\n",
    "# 批次大小为32（每次训练模型传入32个数据进行训练）\n",
    "# validation_data设置验证集数据\n",
    "model.fit(x_train, y_train, epochs=10, batch_size=32, validation_data=(x_test,y_test))"
   ]
  },
  {
   "cell_type": "code",
   "execution_count": null,
   "metadata": {},
   "outputs": [],
   "source": []
  }
 ],
 "metadata": {
  "anaconda-cloud": {},
  "kernelspec": {
   "display_name": "Python 3",
   "language": "python",
   "name": "python3"
  },
  "language_info": {
   "codemirror_mode": {
    "name": "ipython",
    "version": 3
   },
   "file_extension": ".py",
   "mimetype": "text/x-python",
   "name": "python",
   "nbconvert_exporter": "python",
   "pygments_lexer": "ipython3",
   "version": "3.6.7"
  }
 },
 "nbformat": 4,
 "nbformat_minor": 1
}
