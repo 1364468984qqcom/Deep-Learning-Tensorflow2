{
 "cells": [
  {
   "cell_type": "code",
   "execution_count": 1,
   "metadata": {},
   "outputs": [],
   "source": [
    "# 导入numpy 科学计算包\n",
    "import numpy as np"
   ]
  },
  {
   "cell_type": "code",
   "execution_count": 2,
   "metadata": {},
   "outputs": [],
   "source": [
    "# 定义输入\n",
    "x0 = 1\n",
    "x1 = 0\n",
    "x2 = -1\n",
    "# 定义权值\n",
    "w0 = -5\n",
    "w1 = 0\n",
    "w2 = 0\n",
    "# 定义正确的标签\n",
    "t = 1\n",
    "# 定义学习率lr(learning rate)\n",
    "lr = 1\n",
    "# 定义偏置值\n",
    "b = 0"
   ]
  },
  {
   "cell_type": "code",
   "execution_count": 3,
   "metadata": {},
   "outputs": [
    {
     "name": "stdout",
     "output_type": "stream",
     "text": [
      "-5 0 0\n",
      "-3 0 -2\n",
      "-1 0 -4\n",
      "done\n"
     ]
    }
   ],
   "source": [
    "# 循环一个比较大的次数，比如100\n",
    "for i in range(100):\n",
    "    # 打印权值\n",
    "    print(w0,w1,w2)\n",
    "    # 计算感知器的输出\n",
    "    y = np.sign(w0 * x0 + w1 * x1 + w2*x2)\n",
    "    # 如果感知器输出不等于正确的标签\n",
    "    if(y != t):\n",
    "        # 更新权值\n",
    "        w0 = w0 + lr * (t-y) * x0\n",
    "        w1 = w1 + lr * (t-y) * x1\n",
    "        w2 = w2 + lr * (t-y) * x2\n",
    "    # 如果感知器输出等于正确的标签\n",
    "    else:\n",
    "        # 训练结束\n",
    "        print('done')\n",
    "        # 退出循环\n",
    "        break"
   ]
  },
  {
   "cell_type": "code",
   "execution_count": null,
   "metadata": {},
   "outputs": [],
   "source": []
  }
 ],
 "metadata": {
  "anaconda-cloud": {},
  "kernelspec": {
   "display_name": "Python 3",
   "language": "python",
   "name": "python3"
  },
  "language_info": {
   "codemirror_mode": {
    "name": "ipython",
    "version": 3
   },
   "file_extension": ".py",
   "mimetype": "text/x-python",
   "name": "python",
   "nbconvert_exporter": "python",
   "pygments_lexer": "ipython3",
   "version": "3.6.7"
  }
 },
 "nbformat": 4,
 "nbformat_minor": 1
}
