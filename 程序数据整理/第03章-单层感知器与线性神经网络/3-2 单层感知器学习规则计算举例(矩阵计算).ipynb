{
 "cells": [
  {
   "cell_type": "code",
   "execution_count": 1,
   "metadata": {},
   "outputs": [],
   "source": [
    "# 导入numpy 科学计算包\n",
    "import numpy as np"
   ]
  },
  {
   "cell_type": "code",
   "execution_count": 2,
   "metadata": {},
   "outputs": [],
   "source": [
    "# 定义输入，用大写字母表示矩阵\n",
    "# 一般我们习惯用一行来表示一个数据，如果存在多个数据就用多行来表示\n",
    "X = np.array([[1,0,-1]])\n",
    "# 定义权值，用大写字母表示矩阵\n",
    "# 神经网络中权值的定义可以参考神经网络的输入是输出神经元的个数\n",
    "# 在本例子中输入神经元个数为3个，输出神经元个数为1个，所以可以定义3行1列的W\n",
    "W = np.array([[-5],\n",
    "              [0],\n",
    "              [0]])\n",
    "# 定义正确的标签\n",
    "t = 1\n",
    "# 定义学习率lr(learning rate)\n",
    "lr = 1\n",
    "# 定义偏置值\n",
    "b = 0"
   ]
  },
  {
   "cell_type": "code",
   "execution_count": 3,
   "metadata": {},
   "outputs": [
    {
     "name": "stdout",
     "output_type": "stream",
     "text": [
      "[[-5]\n",
      " [ 0]\n",
      " [ 0]]\n",
      "[[-3]\n",
      " [ 0]\n",
      " [-2]]\n",
      "[[-1]\n",
      " [ 0]\n",
      " [-4]]\n",
      "done\n"
     ]
    }
   ],
   "source": [
    "# 循环一个比较大的次数，比如100\n",
    "for i in range(100):\n",
    "    # 打印权值\n",
    "    print(W)\n",
    "    # 计算感知器的输出，np.dot可以看做是矩阵乘法\n",
    "    y = np.sign(np.dot(X,W))\n",
    "    # 如果感知器输出不等于正确的标签\n",
    "    if(y != t):\n",
    "        # 更新权值\n",
    "        # X.T表示X矩阵的转置\n",
    "        # 这里一个步骤可以完成代码3-1中下面3行代码完成的事情\n",
    "        # w0 = w0 + lr * (t-y) * x0\n",
    "        # w1 = w1 + lr * (t-y) * x1\n",
    "        # w2 = w2 + lr * (t-y) * x2\n",
    "        W = W + lr * (t - y) * X.T\n",
    "    # 如果感知器输出等于正确的标签\n",
    "    else:\n",
    "        # 训练结束\n",
    "        print('done')\n",
    "        # 退出循环\n",
    "        break"
   ]
  },
  {
   "cell_type": "code",
   "execution_count": null,
   "metadata": {},
   "outputs": [],
   "source": []
  }
 ],
 "metadata": {
  "anaconda-cloud": {},
  "kernelspec": {
   "display_name": "Python 3",
   "language": "python",
   "name": "python3"
  },
  "language_info": {
   "codemirror_mode": {
    "name": "ipython",
    "version": 3
   },
   "file_extension": ".py",
   "mimetype": "text/x-python",
   "name": "python",
   "nbconvert_exporter": "python",
   "pygments_lexer": "ipython3",
   "version": "3.6.7"
  }
 },
 "nbformat": 4,
 "nbformat_minor": 1
}
