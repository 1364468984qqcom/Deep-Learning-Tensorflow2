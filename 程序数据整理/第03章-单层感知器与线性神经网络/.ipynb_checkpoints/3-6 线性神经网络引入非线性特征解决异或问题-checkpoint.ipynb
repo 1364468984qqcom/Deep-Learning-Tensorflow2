{
 "cells": [
  {
   "cell_type": "code",
   "execution_count": 4,
   "metadata": {
    "collapsed": true
   },
   "outputs": [],
   "source": [
    "import numpy as np\n",
    "import matplotlib.pyplot as plt"
   ]
  },
  {
   "cell_type": "code",
   "execution_count": 7,
   "metadata": {},
   "outputs": [],
   "source": [
    "# 输入数据\n",
    "# 原来X的3个特征分别为：x0,x1,x2\n",
    "# X = np.array([[1,0,0],\n",
    "#               [1,0,1],\n",
    "#               [1,1,0],  \n",
    "#               [1,1,1]])\n",
    "# 给网络输入非线性特征\n",
    "# 现在X的6个特征分别为：x0,x1,x2,x1×x1,x1×x2,x2×x2\n",
    "X = np.array([[1,0,0,0,0,0],\n",
    "              [1,0,1,0,0,1],\n",
    "              [1,1,0,1,0,0],\n",
    "              [1,1,1,1,1,1]])\n",
    "# 标签，分别对应4种异或情况的结果\n",
    "T = np.array([[-1],\n",
    "              [1],\n",
    "              [1],\n",
    "              [-1]])\n",
    "# 权值初始化，6行1列\n",
    "# np.random.random可以生成0-1的随机数\n",
    "W = np.random.random([6,1])\n",
    "# 学习率设置\n",
    "lr = 0.1\n",
    "# 神经网络输出\n",
    "Y = 0\n",
    "\n",
    "# 更新一次权值\n",
    "def train():\n",
    "    # 使用全局变量W\n",
    "    global W\n",
    "    # 计算网络预测值\n",
    "    Y = np.dot(X,W)\n",
    "    # 计算权值的改变\n",
    "    delta_W = lr * (X.T.dot(T - Y)) / X.shape[0]\n",
    "    # 更新权值\n",
    "    W = W + delta_W"
   ]
  },
  {
   "cell_type": "code",
   "execution_count": 8,
   "metadata": {},
   "outputs": [
    {
     "name": "stdout",
     "output_type": "stream",
     "text": [
      "[[-0.98650596]\n",
      " [ 0.990989  ]\n",
      " [ 0.990989  ]\n",
      " [-0.99302749]]\n"
     ]
    },
    {
     "data": {
      "image/png": "[encoded data removed]",
      "text/plain": [
       "<matplotlib.figure.Figure at 0x14bffea8198>"
      ]
     },
     "metadata": {},
     "output_type": "display_data"
    }
   ],
   "source": [
    "# 训练1000次\n",
    "for i in range(1000):\n",
    "    #更新一次权值\n",
    "    train()\n",
    "\n",
    "# 计算模型预测结果并打印\n",
    "Y = np.dot(X,W)\n",
    "print(Y)\n",
    "\n",
    "#————————以下为画图部分————————#\n",
    "# 正样本\n",
    "x1 = [0,1]\n",
    "y1 = [1,0]\n",
    "# 负样本\n",
    "x2 = [0,1]\n",
    "y2 = [0,1]\n",
    "\n",
    "# 神经网络信号的总合为：w0x0+w1x1+w2x2+w3x1x1+w4x1x2+w5x2x2\n",
    "# 当w0x0+w1x1+w2x2+w3x1x1+w4x1x2+w5x2x2=0时为分类边界线\n",
    "# 其中x0为1，我们可以把x1，x2分别看成是平面坐标系中的x和y\n",
    "# 可以得到：w0 + w1x + w2y + w3xx + w4xy + w5yy = 0\n",
    "# 通分可得：w5y² + (w2+w4x)y + w0 + w1x + w3x² = 0\n",
    "# 其中 a = w5, b = w2+w4x, c = w0 + w1x + w3x²\n",
    "# 根据一元二次方程的求根公式：ay²+by+c=0，y=[-b±(b^2-4ac)^(1/2)]/2a\n",
    "def calculate(x,root):\n",
    "    # 定义参数\n",
    "    a = W[5]\n",
    "    b = W[2] + x * W[4]\n",
    "    c = W[0] + x * W[1] + x * x * W[3]\n",
    "    # 有两个根\n",
    "    if root == 1:\n",
    "        return (- b + np.sqrt(b * b - 4 * a * c)) / (2 * a)\n",
    "    if root == 2:\n",
    "        return (- b - np.sqrt(b * b - 4 * a * c)) / (2 * a)\n",
    "    \n",
    "# 从-1到2之间均匀生成100个点\n",
    "xdata = np.linspace(-1,2,100)\n",
    "# 使用第一个求根公式计算出来的结果画出第一条红线\n",
    "plt.plot(xdata,calculate(xdata,1),'r')\n",
    "# 使用第二个求根公式计算出来的结果画出第二条红线\n",
    "plt.plot(xdata,calculate(xdata,2),'r')\n",
    "# 蓝色点表示正样本\n",
    "plt.plot(x1,y1,'bo')\n",
    "# 黄色点表示负样本\n",
    "plt.plot(x2,y2,'yo')\n",
    "# 绘图\n",
    "plt.show()"
   ]
  },
  {
   "cell_type": "code",
   "execution_count": null,
   "metadata": {
    "collapsed": true
   },
   "outputs": [],
   "source": []
  }
 ],
 "metadata": {
  "anaconda-cloud": {},
  "kernelspec": {
   "display_name": "Python 3",
   "language": "python",
   "name": "python3"
  },
  "language_info": {
   "codemirror_mode": {
    "name": "ipython",
    "version": 3
   },
   "file_extension": ".py",
   "mimetype": "text/x-python",
   "name": "python",
   "nbconvert_exporter": "python",
   "pygments_lexer": "ipython3",
   "version": "3.6.7"
  }
 },
 "nbformat": 4,
 "nbformat_minor": 1
}
