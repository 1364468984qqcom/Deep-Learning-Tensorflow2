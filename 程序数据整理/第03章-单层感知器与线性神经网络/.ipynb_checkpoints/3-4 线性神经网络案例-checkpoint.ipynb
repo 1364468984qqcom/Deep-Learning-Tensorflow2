{
 "cells": [
  {
   "cell_type": "code",
   "execution_count": 7,
   "metadata": {},
   "outputs": [],
   "source": [
    "import numpy as np\n",
    "import matplotlib.pyplot as plt"
   ]
  },
  {
   "cell_type": "code",
   "execution_count": 8,
   "metadata": {},
   "outputs": [],
   "source": [
    "# 定义输入，我们习惯上用一行代表一个数据\n",
    "X = np.array([[1,3,3],\n",
    "              [1,4,3],\n",
    "              [1,1,1],\n",
    "              [1,2,1]])\n",
    "# 定义标签，我们习惯上用一行表示一个数据的标签\n",
    "T = np.array([[1],\n",
    "              [1],\n",
    "              [-1],\n",
    "              [-1]])\n",
    "\n",
    "# 权值初始化，3行1列\n",
    "# np.random.random可以生成0-1的随机数\n",
    "W = np.random.random([3,1])\n",
    "# 学习率设置\n",
    "lr = 0.1\n",
    "# 神经网络输出\n",
    "Y = 0\n",
    "\n",
    "# 更新一次权值\n",
    "def train():\n",
    "    # 使用全局变量W\n",
    "    global W\n",
    "    # 同时计算4个数据的预测值\n",
    "    # Y的形状为(4,1)-4行1列\n",
    "    Y = np.dot(X,W)\n",
    "    # T - Y得到4个的标签值与预测值的误差E。形状为(4,1)\n",
    "    E = T - Y \n",
    "    # X.T表示X的转置矩阵，形状为(3,4)\n",
    "    # 我们一共有4个数据，每个数据3个值。定义第i个数据的第j个特征值为xij\n",
    "    # 如第1个数据，第2个值为x12\n",
    "    # X.T.dot(T - Y)为一个3行1列的数据：\n",
    "    # 第1行等于：x00×e0+x10×e1+x20×e2+x30×e3，它会调整第1个神经元对应的权值\n",
    "    # 第2行等于：x01×e0+x11×e1+x21×e2+x31×e3，它会调整第2个神经元对应的权值\n",
    "    # 第3行等于：x02×e0+x12×e1+x22×e2+x32×e3，它会影调整3个神经元对应的权值\n",
    "    # X.shape表示X的形状X.shape[0]得到X的行数，表示有多少个数据\n",
    "    # X.shape[1]得到列数，表示每个数据有多少个特征值。\n",
    "    # 这里的公式跟书中公式3.2看起来有些不同，原因是这里的计算是矩阵运算，书中公式3.2是单个元素的计算。如果在草稿子上仔细推算的话你会发现它们的本质是一样的\n",
    "    delta_W = lr * (X.T.dot(E)) / X.shape[0]\n",
    "    W = W + delta_W"
   ]
  },
  {
   "cell_type": "code",
   "execution_count": 9,
   "metadata": {},
   "outputs": [
    {
     "data": {
      "image/png": "[encoded data removed]",
      "text/plain": [
       "<Figure size 432x288 with 1 Axes>"
      ]
     },
     "metadata": {},
     "output_type": "display_data"
    }
   ],
   "source": [
    "# 训练100次\n",
    "for i in range(100):\n",
    "    #更新一次权值\n",
    "    train()\n",
    "\n",
    "#————————以下为画图部分————————#\n",
    "# 正样本的xy坐标\n",
    "x1 = [3,4]\n",
    "y1 = [3,3]\n",
    "# 负样本的xy坐标\n",
    "x2 = [1,2]\n",
    "y2 = [1,1]\n",
    "\n",
    "# 计算分类边界线的斜率以及截距\n",
    "# 神经网络的信号总和为w0×x0+w1×x1+w2×x2\n",
    "# 当信号总和大于0再进过激活函数，模型的预测值会得到1\n",
    "# 当信号总和小于0再进过激活函数，模型的预测值会得到-1\n",
    "# 所以当信号总和w0×x0+w1×x1+w2×x2=0时为分类边界线表达式\n",
    "# 我们在画图的时候把x1，x2分别看成是平面坐标系中的x和y\n",
    "# 可以得到：w0 + w1×x + w2 × y = 0\n",
    "# 经过通分：y = -w0/w2 - w1×x/w2，因此可以得到：\n",
    "k = - W[1] / W[2]\n",
    "d =  -W[0] / W[2]\n",
    "# 设定两个点\n",
    "xdata = (0,5)\n",
    "# 通过两个点来确定一条直线，用红色的线来画出分界线\n",
    "plt.plot(xdata,xdata * k + d,'r')\n",
    "# 用蓝色的点画出正样本\n",
    "plt.scatter(x1,y1,c='b')\n",
    "# 用黄色的点来画出负样本\n",
    "plt.scatter(x2,y2,c='y')\n",
    "# 显示图案\n",
    "plt.show()"
   ]
  },
  {
   "cell_type": "code",
   "execution_count": null,
   "metadata": {},
   "outputs": [],
   "source": []
  }
 ],
 "metadata": {
  "anaconda-cloud": {},
  "kernelspec": {
   "display_name": "Python 3",
   "language": "python",
   "name": "python3"
  },
  "language_info": {
   "codemirror_mode": {
    "name": "ipython",
    "version": 3
   },
   "file_extension": ".py",
   "mimetype": "text/x-python",
   "name": "python",
   "nbconvert_exporter": "python",
   "pygments_lexer": "ipython3",
   "version": "3.6.7"
  }
 },
 "nbformat": 4,
 "nbformat_minor": 1
}
