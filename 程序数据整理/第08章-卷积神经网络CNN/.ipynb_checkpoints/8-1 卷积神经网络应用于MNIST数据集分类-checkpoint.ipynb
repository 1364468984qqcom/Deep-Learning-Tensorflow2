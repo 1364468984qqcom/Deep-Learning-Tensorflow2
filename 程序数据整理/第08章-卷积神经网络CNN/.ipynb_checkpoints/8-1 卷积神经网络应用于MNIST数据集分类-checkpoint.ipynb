{
 "cells": [
  {
   "cell_type": "code",
   "execution_count": 5,
   "metadata": {},
   "outputs": [],
   "source": [
    "import tensorflow as tf\n",
    "from tensorflow.keras.models import Sequential\n",
    "from tensorflow.keras.layers import Dense,Dropout,Convolution2D,MaxPooling2D,Flatten\n",
    "from tensorflow.keras.optimizers import Adam"
   ]
  },
  {
   "cell_type": "code",
   "execution_count": 6,
   "metadata": {},
   "outputs": [
    {
     "name": "stdout",
     "output_type": "stream",
     "text": [
      "Train on 60000 samples, validate on 10000 samples\n",
      "Epoch 1/10\n",
      "60000/60000 [==============================] - 73s 1ms/sample - loss: 0.3466 - accuracy: 0.8985 - val_loss: 0.0953 - val_accuracy: 0.9706\n",
      "Epoch 2/10\n",
      "60000/60000 [==============================] - 72s 1ms/sample - loss: 0.0986 - accuracy: 0.9706 - val_loss: 0.0601 - val_accuracy: 0.9804\n",
      "Epoch 3/10\n",
      "60000/60000 [==============================] - 73s 1ms/sample - loss: 0.0682 - accuracy: 0.9793 - val_loss: 0.0416 - val_accuracy: 0.9859\n",
      "Epoch 4/10\n",
      "60000/60000 [==============================] - 72s 1ms/sample - loss: 0.0532 - accuracy: 0.9838 - val_loss: 0.0359 - val_accuracy: 0.9885\n",
      "Epoch 5/10\n",
      "60000/60000 [==============================] - 70s 1ms/sample - loss: 0.0448 - accuracy: 0.9863 - val_loss: 0.0306 - val_accuracy: 0.9899\n",
      "Epoch 6/10\n",
      "60000/60000 [==============================] - 70s 1ms/sample - loss: 0.0374 - accuracy: 0.9889 - val_loss: 0.0277 - val_accuracy: 0.9907\n",
      "Epoch 7/10\n",
      "60000/60000 [==============================] - 69s 1ms/sample - loss: 0.0327 - accuracy: 0.9895 - val_loss: 0.0258 - val_accuracy: 0.9910\n",
      "Epoch 8/10\n",
      "60000/60000 [==============================] - 71s 1ms/sample - loss: 0.0286 - accuracy: 0.9907 - val_loss: 0.0256 - val_accuracy: 0.9912\n",
      "Epoch 9/10\n",
      "60000/60000 [==============================] - 71s 1ms/sample - loss: 0.0251 - accuracy: 0.9920 - val_loss: 0.0263 - val_accuracy: 0.9909\n",
      "Epoch 10/10\n",
      "60000/60000 [==============================] - 72s 1ms/sample - loss: 0.0222 - accuracy: 0.9929 - val_loss: 0.0215 - val_accuracy: 0.9928\n"
     ]
    },
    {
     "data": {
      "text/plain": [
       "<tensorflow.python.keras.callbacks.History at 0xb519fab70>"
      ]
     },
     "execution_count": 6,
     "metadata": {},
     "output_type": "execute_result"
    }
   ],
   "source": [
    "# 载入数据\n",
    "mnist = tf.keras.datasets.mnist\n",
    "# 载入数据，数据载入的时候就已经划分好训练集和测试集\n",
    "(x_train, y_train), (x_test, y_test) = mnist.load_data()\n",
    "# 这里要注意，在tensorflow中，在做卷积的时候需要把数据变成4维的格式\n",
    "# 这4个维度是(数据数量，图片高度，图片宽度，图片通道数)\n",
    "# 所以这里把数据reshape变成4维数据，黑白图片的通道数是1，彩色图片通道数是3\n",
    "x_train = x_train.reshape(-1,28,28,1)/255.0\n",
    "x_test = x_test.reshape(-1,28,28,1)/255.0\n",
    "# 把训练集和测试集的标签转为独热编码\n",
    "y_train = tf.keras.utils.to_categorical(y_train,num_classes=10)\n",
    "y_test = tf.keras.utils.to_categorical(y_test,num_classes=10)\n",
    "\n",
    "# 定义顺序模型\n",
    "model = Sequential()\n",
    "# 第一个卷积层\n",
    "# input_shape 输入数据\n",
    "# filters 滤波器个数32，生成32张特征图\n",
    "# kernel_size 卷积窗口大小5*5\n",
    "# strides 步长1\n",
    "# padding padding方式 same/valid\n",
    "# activation 激活函数\n",
    "model.add(Convolution2D(\n",
    "    input_shape = (28,28,1),\n",
    "    filters = 32,\n",
    "    kernel_size = 5,\n",
    "    strides = 1,\n",
    "    padding = 'same',\n",
    "    activation = 'relu'\n",
    "))\n",
    "# 第一个池化层\n",
    "# pool_size 池化窗口大小2*2\n",
    "# strides 步长2\n",
    "# padding padding方式 same/valid\n",
    "model.add(MaxPooling2D(\n",
    "    pool_size = 2,\n",
    "    strides = 2,\n",
    "    padding = 'same',\n",
    "))\n",
    "# 第二个卷积层\n",
    "# filters 滤波器个数64，生成64张特征图\n",
    "# kernel_size 卷积窗口大小5*5\n",
    "# strides 步长1\n",
    "# padding padding方式 same/valid\n",
    "# activation 激活函数\n",
    "model.add(Convolution2D(64,5,strides=1,padding='same',activation='relu'))\n",
    "# 第二个池化层\n",
    "# pool_size 池化窗口大小2*2\n",
    "# strides 步长2\n",
    "# padding padding方式 same/valid\n",
    "model.add(MaxPooling2D(2,2,'same'))\n",
    "# 把第二个池化层的输出进行数据扁平化\n",
    "# 相当于把(64,7,7,64)数据->(64,7*7*64)\n",
    "model.add(Flatten())\n",
    "# 第一个全连接层\n",
    "model.add(Dense(1024,activation = 'relu'))\n",
    "# Dropout\n",
    "model.add(Dropout(0.5))\n",
    "# 第二个全连接层\n",
    "model.add(Dense(10,activation='softmax'))\n",
    "# 定义优化器\n",
    "adam = Adam(lr=1e-4)\n",
    "# 定义优化器，loss function，训练过程中计算准确率\n",
    "model.compile(optimizer=adam,loss='categorical_crossentropy',metrics=['accuracy'])\n",
    "# 训练模型\n",
    "model.fit(x_train,y_train,batch_size=64,epochs=10,validation_data=(x_test, y_test))"
   ]
  },
  {
   "cell_type": "code",
   "execution_count": 7,
   "metadata": {},
   "outputs": [],
   "source": [
    "# 保存模型\n",
    "model.save('mnist.h5')"
   ]
  },
  {
   "cell_type": "code",
   "execution_count": null,
   "metadata": {},
   "outputs": [],
   "source": []
  }
 ],
 "metadata": {
  "anaconda-cloud": {},
  "kernelspec": {
   "display_name": "Python 3",
   "language": "python",
   "name": "python3"
  },
  "language_info": {
   "codemirror_mode": {
    "name": "ipython",
    "version": 3
   },
   "file_extension": ".py",
   "mimetype": "text/x-python",
   "name": "python",
   "nbconvert_exporter": "python",
   "pygments_lexer": "ipython3",
   "version": "3.6.7"
  }
 },
 "nbformat": 4,
 "nbformat_minor": 1
}
