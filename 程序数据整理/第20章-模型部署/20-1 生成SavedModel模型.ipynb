{
 "cells": [
  {
   "cell_type": "code",
   "execution_count": 3,
   "metadata": {},
   "outputs": [],
   "source": [
    "import tensorflow as tf\n",
    "from tensorflow.keras.optimizers import SGD\n",
    "\n",
    "# 载入数据集\n",
    "mnist = tf.keras.datasets.mnist\n",
    "# 载入数据，数据载入的时候就已经划分好训练集和测试集\n",
    "(x_train, y_train), (x_test, y_test) = mnist.load_data()\n",
    "# 对训练集和测试集的数据进行归一化处理，有助于提升模型训练速度\n",
    "x_train, x_test = x_train / 255.0, x_test / 255.0\n",
    "# 把训练集和测试集的标签转为独热编码\n",
    "y_train = tf.keras.utils.to_categorical(y_train,num_classes=10)\n",
    "y_test = tf.keras.utils.to_categorical(y_test,num_classes=10)\n",
    "\n",
    "# 模型定义\n",
    "model = tf.keras.models.Sequential([\n",
    "  tf.keras.layers.Flatten(input_shape=(28, 28), name='image'),\n",
    "  tf.keras.layers.Dense(10, activation='softmax', name='output')\n",
    "])\n",
    "\n",
    "# 定义优化器，代价函数\n",
    "sgd = SGD(0.2)\n",
    "model.compile(optimizer=sgd,\n",
    "              loss='mse',\n",
    "              metrics=['accuracy'])"
   ]
  },
  {
   "cell_type": "code",
   "execution_count": 4,
   "metadata": {},
   "outputs": [
    {
     "name": "stdout",
     "output_type": "stream",
     "text": [
      "Train on 60000 samples, validate on 10000 samples\n",
      "Epoch 1/3\n",
      "60000/60000 [==============================] - 2s 31us/sample - loss: 0.0382 - accuracy: 0.7692 - val_loss: 0.0215 - val_accuracy: 0.8817\n",
      "Epoch 2/3\n",
      "60000/60000 [==============================] - 2s 28us/sample - loss: 0.0203 - accuracy: 0.8816 - val_loss: 0.0175 - val_accuracy: 0.8963\n",
      "Epoch 3/3\n",
      "60000/60000 [==============================] - 2s 30us/sample - loss: 0.0177 - accuracy: 0.8936 - val_loss: 0.0160 - val_accuracy: 0.9040\n"
     ]
    }
   ],
   "source": [
    "# 传入训练集数据和标签训练模型\n",
    "model.fit(x_train, y_train, epochs=3, batch_size=32, validation_data=(x_test,y_test))\n",
    "# 保存模型为SavedModel格式\n",
    "# 1在这里用于表示模型的版本号\n",
    "model.save('my_model/1') "
   ]
  },
  {
   "cell_type": "code",
   "execution_count": null,
   "metadata": {},
   "outputs": [],
   "source": []
  }
 ],
 "metadata": {
  "kernelspec": {
   "display_name": "Python 3",
   "language": "python",
   "name": "python3"
  },
  "language_info": {
   "codemirror_mode": {
    "name": "ipython",
    "version": 3
   },
   "file_extension": ".py",
   "mimetype": "text/x-python",
   "name": "python",
   "nbconvert_exporter": "python",
   "pygments_lexer": "ipython3",
   "version": "3.6.7"
  }
 },
 "nbformat": 4,
 "nbformat_minor": 2
}
