{
 "cells": [
  {
   "cell_type": "code",
   "execution_count": 6,
   "metadata": {},
   "outputs": [],
   "source": [
    "import tensorflow as tf\n",
    "import matplotlib.pyplot as plt\n",
    "import numpy as np\n",
    "\n",
    "# 载入数据集\n",
    "mnist = tf.keras.datasets.mnist\n",
    "# 载入数据，数据载入的时候就已经划分好训练集和测试集\n",
    "(x_train, y_train), (x_test, y_test) = mnist.load_data()\n",
    "# 对训练集和测试集的数据进行归一化处理\n",
    "x_train, x_test = x_train / 255.0, x_test / 255.0"
   ]
  },
  {
   "cell_type": "code",
   "execution_count": 7,
   "metadata": {},
   "outputs": [],
   "source": [
    "import json\n",
    "import numpy\n",
    "import requests\n",
    "# 定义模型签名，可以使用saved_model_cli命令查看\n",
    "# 定义instances，一次性传入16张图进行预测\n",
    "data = json.dumps({\"signature_name\": \"serving_default\",\n",
    "                   \"instances\": x_test[0:16].tolist()})\n",
    "# 定义headers\n",
    "headers = {\"content-type\": \"application/json\"}\n",
    "# 定义url，启动tf-serving服务器程序的时候有看到过\n",
    "# /models/my_model为模型挂载到Docker中的位置\n",
    "url = 'http://localhost:8501/v1/models/my_model:predict'\n",
    "# 传输数据进行预测，得到返回结果\n",
    "json_response = requests.post(url, data=data, headers=headers)\n",
    "# 对结果进行解析，然后变成array\n",
    "pre = numpy.array(json.loads(json_response.text)[\"predictions\"])"
   ]
  },
  {
   "cell_type": "code",
   "execution_count": 8,
   "metadata": {},
   "outputs": [
    {
     "name": "stdout",
     "output_type": "stream",
     "text": [
      "预测结果为： [7 2 1 0 4 1 4 9 6 9 0 6 9 0 1 5]\n",
      "真实标签为： [7 2 1 0 4 1 4 9 5 9 0 6 9 0 1 5]\n"
     ]
    }
   ],
   "source": [
    "print(\"预测结果为：\",np.argmax(pre,axis=1))\n",
    "print(\"真实标签为：\",y_test[:16])"
   ]
  },
  {
   "cell_type": "code",
   "execution_count": null,
   "metadata": {},
   "outputs": [],
   "source": []
  }
 ],
 "metadata": {
  "kernelspec": {
   "display_name": "Python 3",
   "language": "python",
   "name": "python3"
  },
  "language_info": {
   "codemirror_mode": {
    "name": "ipython",
    "version": 3
   },
   "file_extension": ".py",
   "mimetype": "text/x-python",
   "name": "python",
   "nbconvert_exporter": "python",
   "pygments_lexer": "ipython3",
   "version": "3.6.7"
  }
 },
 "nbformat": 4,
 "nbformat_minor": 2
}
