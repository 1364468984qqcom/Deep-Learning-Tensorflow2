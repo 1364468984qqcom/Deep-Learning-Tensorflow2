{
 "cells": [
  {
   "cell_type": "code",
   "execution_count": 6,
   "metadata": {},
   "outputs": [],
   "source": [
    "from tensorflow_serving.apis import predict_pb2\n",
    "from tensorflow_serving.apis import prediction_service_pb2_grpc\n",
    "import grpc\n",
    "\n",
    "# 向TensorFlow Serving服务请求预测结果。\n",
    "def request_server(img, server_url):\n",
    "    # 为服务器创建一个通道\n",
    "    channel = grpc.insecure_channel(server_url)\n",
    "    # 在客户端中实现stub，利用这个stub可以调用相应的服务器中的服务\n",
    "    stub = prediction_service_pb2_grpc.PredictionServiceStub(channel)\n",
    "    # 定义请求\n",
    "    request = predict_pb2.PredictRequest()\n",
    "    # 设置模型名称，需要跟启动tf-serving服务器时模型的名字一样\n",
    "    request.model_spec.name = \"my_model\"  \n",
    "    # 模型签名，可以使用saved_model_cli命令查看\n",
    "    request.model_spec.signature_name = \"serving_default\" \n",
    "    # 模型输入名称为\"image_input\"，之前模型保存的时候设置为\"image\"后面的\"_input\"是程序自动加上的\n",
    "    # 设置要传输的数据img，数据的格式tf.float32，数据的形状img.shape\n",
    "    request.inputs[\"image_input\"].CopyFrom(tf.make_tensor_proto(img, dtype=tf.float32, shape=img.shape))\n",
    "    # 传数据获得预测结果，最多等待5秒\n",
    "    response = stub.Predict(request, 5.0)  \n",
    "    # output为模型输出名称，之前模型保存的时候设置的，变成array后返回\n",
    "    return np.asarray(response.outputs[\"output\"].float_val) "
   ]
  },
  {
   "cell_type": "code",
   "execution_count": 7,
   "metadata": {},
   "outputs": [
    {
     "data": {
      "image/png": "[encoded data removed]",
      "text/plain": [
       "<Figure size 432x288 with 1 Axes>"
      ]
     },
     "metadata": {},
     "output_type": "display_data"
    }
   ],
   "source": [
    "import tensorflow as tf\n",
    "import matplotlib.pyplot as plt\n",
    "import numpy as np\n",
    "\n",
    "# 载入数据集\n",
    "mnist = tf.keras.datasets.mnist\n",
    "# 载入数据，数据载入的时候就已经划分好训练集和测试集\n",
    "(x_train, y_train), (x_test, y_test) = mnist.load_data()\n",
    "# 对训练集和测试集的数据进行归一化处理\n",
    "x_train, x_test = x_train / 255.0, x_test / 255.0\n",
    "# x_test中第5张图片标签为1\n",
    "plt.imshow(x_test[5],cmap='gray')\n",
    "# 显示图片\n",
    "plt.show()"
   ]
  },
  {
   "cell_type": "code",
   "execution_count": 8,
   "metadata": {},
   "outputs": [
    {
     "name": "stdout",
     "output_type": "stream",
     "text": [
      "预测结果为： 1\n"
     ]
    }
   ],
   "source": [
    "# grpc地址及端口，启动tf-serving服务器程序的时候有看到过\n",
    "server_url = '0.0.0.0:8500'\n",
    "# 预测一个数据\n",
    "pre = request_server(x_test[5], server_url)\n",
    "print(\"预测结果为：\",np.argmax(pre))"
   ]
  },
  {
   "cell_type": "code",
   "execution_count": 9,
   "metadata": {},
   "outputs": [
    {
     "name": "stdout",
     "output_type": "stream",
     "text": [
      "预测结果为： [7 2 1 0 4 1 4 9 6 9 0 6 9 0 1 5]\n",
      "真实标签为： [7 2 1 0 4 1 4 9 5 9 0 6 9 0 1 5]\n"
     ]
    }
   ],
   "source": [
    "# 预测一个批次的数据，比如一次性预测16个数据\n",
    "num = 16\n",
    "# 获得预测结果\n",
    "pre = request_server(x_test[:num], server_url)\n",
    "# reshape变成16行10列\n",
    "pre = pre.reshape((num,10))\n",
    "print(\"预测结果为：\",np.argmax(pre,axis=1))\n",
    "print(\"真实标签为：\",y_test[:num])"
   ]
  },
  {
   "cell_type": "code",
   "execution_count": null,
   "metadata": {},
   "outputs": [],
   "source": []
  }
 ],
 "metadata": {
  "kernelspec": {
   "display_name": "Python 3",
   "language": "python",
   "name": "python3"
  },
  "language_info": {
   "codemirror_mode": {
    "name": "ipython",
    "version": 3
   },
   "file_extension": ".py",
   "mimetype": "text/x-python",
   "name": "python",
   "nbconvert_exporter": "python",
   "pygments_lexer": "ipython3",
   "version": "3.6.7"
  }
 },
 "nbformat": 4,
 "nbformat_minor": 2
}
