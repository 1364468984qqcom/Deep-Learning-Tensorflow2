{
 "cells": [
  {
   "cell_type": "code",
   "execution_count": 1,
   "metadata": {},
   "outputs": [],
   "source": [
    "# 载入BP神经网络算法\n",
    "from sklearn.neural_network import MLPClassifier \n",
    "from sklearn.datasets import load_digits\n",
    "from sklearn.model_selection import train_test_split\n",
    "from sklearn.metrics import classification_report\n",
    "import matplotlib.pyplot as plt"
   ]
  },
  {
   "cell_type": "code",
   "execution_count": 2,
   "metadata": {
    "scrolled": true
   },
   "outputs": [],
   "source": [
    "#载入数据\n",
    "digits = load_digits()\n",
    "#数据\n",
    "x_data = digits.data \n",
    "#标签\n",
    "y_data = digits.target \n",
    "# X中原来的数值范围是0-255之间，归一化后变成0-1之间\n",
    "x_data -= x_data.min()\n",
    "x_data /= x_data.max() - x_data.min()\n",
    "# 分割数据1/4为测试数据，3/4为训练数据\n",
    "# 有1347个训练数据，450个测试数据\n",
    "x_train,x_test,y_train,y_test = train_test_split(x_data,y_data,test_size=0.25) "
   ]
  },
  {
   "cell_type": "code",
   "execution_count": 3,
   "metadata": {},
   "outputs": [
    {
     "data": {
      "text/plain": [
       "MLPClassifier(activation='relu', alpha=0.0001, batch_size='auto', beta_1=0.9,\n",
       "              beta_2=0.999, early_stopping=False, epsilon=1e-08,\n",
       "              hidden_layer_sizes=(100, 20), learning_rate='constant',\n",
       "              learning_rate_init=0.001, max_fun=15000, max_iter=500,\n",
       "              momentum=0.9, n_iter_no_change=10, nesterovs_momentum=True,\n",
       "              power_t=0.5, random_state=None, shuffle=True, solver='adam',\n",
       "              tol=0.0001, validation_fraction=0.1, verbose=False,\n",
       "              warm_start=False)"
      ]
     },
     "execution_count": 3,
     "metadata": {},
     "output_type": "execute_result"
    }
   ],
   "source": [
    "# 定义神经网络模型，模型输入神经元个数和输出神经元个数不需要设置\n",
    "# hidden_layer_sizes用于设置隐藏层结构：\n",
    "# 比如(50)表示有1个隐藏层，隐藏层神经元个数为50\n",
    "# 比如(100,20)表示有2个隐藏层，第1个隐藏层有100个神经元，第2个隐藏层有20个神经元\n",
    "# 比如(100,20,10)表示3个隐藏层，神经元个数分别为100，20，10\n",
    "# max_iter设置训练次数\n",
    "mlp = MLPClassifier(hidden_layer_sizes=(100,20), max_iter=500)\n",
    "# fit传入训练集数据开始训练模型\n",
    "mlp.fit(x_train,y_train)"
   ]
  },
  {
   "cell_type": "code",
   "execution_count": 4,
   "metadata": {},
   "outputs": [
    {
     "name": "stdout",
     "output_type": "stream",
     "text": [
      "              precision    recall  f1-score   support\n",
      "\n",
      "           0       1.00      1.00      1.00        35\n",
      "           1       0.98      1.00      0.99        49\n",
      "           2       1.00      0.98      0.99        50\n",
      "           3       0.97      0.97      0.97        38\n",
      "           4       1.00      0.98      0.99        56\n",
      "           5       1.00      0.93      0.96        43\n",
      "           6       1.00      1.00      1.00        47\n",
      "           7       0.94      1.00      0.97        46\n",
      "           8       0.95      1.00      0.97        36\n",
      "           9       0.98      0.96      0.97        50\n",
      "\n",
      "    accuracy                           0.98       450\n",
      "   macro avg       0.98      0.98      0.98       450\n",
      "weighted avg       0.98      0.98      0.98       450\n",
      "\n"
     ]
    }
   ],
   "source": [
    "# predict用于模型预测\n",
    "predictions = mlp.predict(x_test)\n",
    "# 标签数据和模型预测数据进行对比，计算分类评估指标\n",
    "print(classification_report(y_test, predictions))"
   ]
  },
  {
   "cell_type": "code",
   "execution_count": null,
   "metadata": {},
   "outputs": [],
   "source": []
  },
  {
   "cell_type": "code",
   "execution_count": null,
   "metadata": {},
   "outputs": [],
   "source": []
  }
 ],
 "metadata": {
  "anaconda-cloud": {},
  "kernelspec": {
   "display_name": "Python 3",
   "language": "python",
   "name": "python3"
  },
  "language_info": {
   "codemirror_mode": {
    "name": "ipython",
    "version": 3
   },
   "file_extension": ".py",
   "mimetype": "text/x-python",
   "name": "python",
   "nbconvert_exporter": "python",
   "pygments_lexer": "ipython3",
   "version": "3.6.7"
  }
 },
 "nbformat": 4,
 "nbformat_minor": 1
}
