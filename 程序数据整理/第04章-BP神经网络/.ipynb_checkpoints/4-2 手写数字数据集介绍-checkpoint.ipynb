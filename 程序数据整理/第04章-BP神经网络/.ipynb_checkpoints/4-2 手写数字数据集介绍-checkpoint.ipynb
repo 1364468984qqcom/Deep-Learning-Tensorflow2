{
 "cells": [
  {
   "cell_type": "code",
   "execution_count": 14,
   "metadata": {},
   "outputs": [
    {
     "name": "stdout",
     "output_type": "stream",
     "text": [
      "data shape: (1797, 64)\n",
      "target shape: (1797,)\n"
     ]
    },
    {
     "data": {
      "image/png": "[encoded data removed]",
      "text/plain": [
       "<matplotlib.figure.Figure at 0x2ab0b72e550>"
      ]
     },
     "metadata": {},
     "output_type": "display_data"
    }
   ],
   "source": [
    "from sklearn.datasets import load_digits\n",
    "import matplotlib.pyplot as plt\n",
    "\n",
    "# 载入手写数字数据\n",
    "digits = load_digits()\n",
    "# 打印数据集的shape，行表示数据集个数，列表示每个数据的特征数\n",
    "print('data shape:',digits.data.shape)\n",
    "# 打印数据标签的shape，数据标签的值为0-9\n",
    "print('target shape:',digits.target.shape)\n",
    "# 准备显示第0张图片，图片为灰度图\n",
    "plt.imshow(digits.images[0],cmap='gray')\n",
    "# 显示图片\n",
    "plt.show()"
   ]
  },
  {
   "cell_type": "code",
   "execution_count": null,
   "metadata": {
    "collapsed": true
   },
   "outputs": [],
   "source": []
  }
 ],
 "metadata": {
  "kernelspec": {
   "display_name": "Python 3",
   "language": "python",
   "name": "python3"
  },
  "language_info": {
   "codemirror_mode": {
    "name": "ipython",
    "version": 3
   },
   "file_extension": ".py",
   "mimetype": "text/x-python",
   "name": "python",
   "nbconvert_exporter": "python",
   "pygments_lexer": "ipython3",
   "version": "3.6.7"
  }
 },
 "nbformat": 4,
 "nbformat_minor": 1
}
