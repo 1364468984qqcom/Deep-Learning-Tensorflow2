{
 "cells": [
  {
   "cell_type": "code",
   "execution_count": 5,
   "metadata": {},
   "outputs": [
    {
     "name": "stdout",
     "output_type": "stream",
     "text": [
      "1:w_shape:(784, 200)\n",
      "1:b_shape:(200,)\n",
      "2:w_shape:(200, 100)\n",
      "2:b_shape:(100,)\n",
      "3:w_shape:(100, 10)\n",
      "3:b_shape:(10,)\n"
     ]
    }
   ],
   "source": [
    "from tensorflow.keras import Sequential\n",
    "from tensorflow.keras.layers import Flatten,Dense,Dropout\n",
    "import numpy as np\n",
    "\n",
    "# 模型定义\n",
    "model = Sequential([\n",
    "        Flatten(input_shape=(28, 28)),\n",
    "        Dense(units=200,activation='tanh'),\n",
    "        Dropout(0.4),\n",
    "        Dense(units=100,activation='tanh'),\n",
    "        Dropout(0.4),\n",
    "        Dense(units=10,activation='softmax')\n",
    "        ])\n",
    "\n",
    "# 保存模型参数\n",
    "model.save_weights('my_model/model_weights')\n",
    "\n",
    "# 获取模型参数\n",
    "weights = model.get_weights()\n",
    "# 把list转变成array\n",
    "weights = np.array(weights)\n",
    "\n",
    "# 循环每一层权值\n",
    "# enumerate相当于循环计数器，记录当前循环次数\n",
    "# weights保存的数据可以对照print输出查看\n",
    "for i,w in enumerate(weights):\n",
    "    if i%2==0:\n",
    "        print('{}:w_shape:{}'.format(int(i/2+1),w.shape))\n",
    "    else:\n",
    "        print('{}:b_shape:{}'.format(int(i/2+0.5),w.shape))"
   ]
  },
  {
   "cell_type": "code",
   "execution_count": 29,
   "metadata": {},
   "outputs": [],
   "source": []
  },
  {
   "cell_type": "code",
   "execution_count": null,
   "metadata": {},
   "outputs": [],
   "source": []
  }
 ],
 "metadata": {
  "kernelspec": {
   "display_name": "Python 3",
   "language": "python",
   "name": "python3"
  },
  "language_info": {
   "codemirror_mode": {
    "name": "ipython",
    "version": 3
   },
   "file_extension": ".py",
   "mimetype": "text/x-python",
   "name": "python",
   "nbconvert_exporter": "python",
   "pygments_lexer": "ipython3",
   "version": "3.6.7"
  }
 },
 "nbformat": 4,
 "nbformat_minor": 2
}
