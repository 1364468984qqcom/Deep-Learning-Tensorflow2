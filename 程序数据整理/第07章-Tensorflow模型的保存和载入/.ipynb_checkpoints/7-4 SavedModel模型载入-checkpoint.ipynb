{
 "cells": [
  {
   "cell_type": "code",
   "execution_count": 1,
   "metadata": {},
   "outputs": [
    {
     "name": "stderr",
     "output_type": "stream",
     "text": [
      "/Users/qin/anaconda3/lib/python3.6/site-packages/h5py/__init__.py:36: FutureWarning: Conversion of the second argument of issubdtype from `float` to `np.floating` is deprecated. In future, it will be treated as `np.float64 == np.dtype(float).type`.\n",
      "  from ._conv import register_converters as _register_converters\n"
     ]
    }
   ],
   "source": [
    "import tensorflow as tf\n",
    "from tensorflow.keras.models import load_model"
   ]
  },
  {
   "cell_type": "code",
   "execution_count": 2,
   "metadata": {},
   "outputs": [
    {
     "name": "stdout",
     "output_type": "stream",
     "text": [
      "Train on 60000 samples, validate on 10000 samples\n",
      "Epoch 1/5\n",
      "60000/60000 [==============================] - 2s 36us/sample - loss: 0.0151 - accuracy: 0.9065 - val_loss: 0.0140 - val_accuracy: 0.9133\n",
      "Epoch 2/5\n",
      "60000/60000 [==============================] - 2s 33us/sample - loss: 0.0146 - accuracy: 0.9093 - val_loss: 0.0137 - val_accuracy: 0.9147\n",
      "Epoch 3/5\n",
      "60000/60000 [==============================] - 2s 32us/sample - loss: 0.0143 - accuracy: 0.9111 - val_loss: 0.0135 - val_accuracy: 0.9156\n",
      "Epoch 4/5\n",
      "60000/60000 [==============================] - 2s 30us/sample - loss: 0.0140 - accuracy: 0.9133 - val_loss: 0.0132 - val_accuracy: 0.9170\n",
      "Epoch 5/5\n",
      "60000/60000 [==============================] - 2s 30us/sample - loss: 0.0138 - accuracy: 0.9141 - val_loss: 0.0130 - val_accuracy: 0.9172\n"
     ]
    },
    {
     "data": {
      "text/plain": [
       "<tensorflow.python.keras.callbacks.History at 0xb4ce30be0>"
      ]
     },
     "execution_count": 2,
     "metadata": {},
     "output_type": "execute_result"
    }
   ],
   "source": [
    "# 载入数据集\n",
    "mnist = tf.keras.datasets.mnist\n",
    "# 载入数据，数据载入的时候就已经划分好训练集和测试集\n",
    "(x_train, y_train), (x_test, y_test) = mnist.load_data()\n",
    "# 对训练集和测试集的数据进行归一化处理，有助于提升模型训练速度\n",
    "x_train, x_test = x_train / 255.0, x_test / 255.0\n",
    "# 把训练集和测试集的标签转为独热编码\n",
    "y_train = tf.keras.utils.to_categorical(y_train,num_classes=10)\n",
    "y_test = tf.keras.utils.to_categorical(y_test,num_classes=10)\n",
    "\n",
    "# 载入SavedModel模型\n",
    "model = load_model('path_to_saved_model')\n",
    "\n",
    "# 再训练5个周期模型\n",
    "model.fit(x_train, y_train, epochs=5, batch_size=32, validation_data=(x_test,y_test))"
   ]
  },
  {
   "cell_type": "code",
   "execution_count": null,
   "metadata": {},
   "outputs": [],
   "source": []
  }
 ],
 "metadata": {
  "anaconda-cloud": {},
  "kernelspec": {
   "display_name": "Python 3",
   "language": "python",
   "name": "python3"
  },
  "language_info": {
   "codemirror_mode": {
    "name": "ipython",
    "version": 3
   },
   "file_extension": ".py",
   "mimetype": "text/x-python",
   "name": "python",
   "nbconvert_exporter": "python",
   "pygments_lexer": "ipython3",
   "version": "3.6.7"
  }
 },
 "nbformat": 4,
 "nbformat_minor": 1
}
