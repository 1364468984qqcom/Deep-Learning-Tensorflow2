{
 "cells": [
  {
   "cell_type": "code",
   "execution_count": 4,
   "metadata": {},
   "outputs": [],
   "source": [
    "from tensorflow.keras import Sequential\n",
    "from tensorflow.keras.layers import Flatten,Dense,Dropout\n",
    "# 载入模型参数前需要先把模型定义好\n",
    "# 模型结构需要与参数匹配\n",
    "# 或者可以使用tf.keras.models.model_from_json载入模型结构\n",
    "model = Sequential([\n",
    "        Flatten(input_shape=(28, 28)),\n",
    "        Dense(units=200,activation='tanh'),\n",
    "        Dropout(0.4),\n",
    "        Dense(units=100,activation='tanh'),\n",
    "        Dropout(0.4),\n",
    "        Dense(units=10,activation='softmax')\n",
    "        ])\n",
    "\n",
    "# 载入模型参数\n",
    "model.load_weights('my_model/model_weights.h5')"
   ]
  },
  {
   "cell_type": "code",
   "execution_count": null,
   "metadata": {},
   "outputs": [],
   "source": []
  }
 ],
 "metadata": {
  "kernelspec": {
   "display_name": "Python 3",
   "language": "python",
   "name": "python3"
  },
  "language_info": {
   "codemirror_mode": {
    "name": "ipython",
    "version": 3
   },
   "file_extension": ".py",
   "mimetype": "text/x-python",
   "name": "python",
   "nbconvert_exporter": "python",
   "pygments_lexer": "ipython3",
   "version": "3.6.7"
  }
 },
 "nbformat": 4,
 "nbformat_minor": 2
}
