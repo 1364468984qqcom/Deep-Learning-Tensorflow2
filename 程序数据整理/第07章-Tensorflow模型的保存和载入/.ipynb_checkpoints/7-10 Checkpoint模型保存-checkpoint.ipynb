{
 "cells": [
  {
   "cell_type": "code",
   "execution_count": 1,
   "metadata": {},
   "outputs": [],
   "source": [
    "import tensorflow as tf"
   ]
  },
  {
   "cell_type": "code",
   "execution_count": 2,
   "metadata": {},
   "outputs": [],
   "source": [
    "# 载入数据集\n",
    "mnist = tf.keras.datasets.mnist\n",
    "(x_train, y_train), (x_test, y_test) = mnist.load_data()\n",
    "# 归一化\n",
    "x_train, x_test = x_train / 255.0, x_test / 255.0\n",
    "# 标签转独热编码\n",
    "y_train = tf.keras.utils.to_categorical(y_train,num_classes=10)\n",
    "y_test = tf.keras.utils.to_categorical(y_test,num_classes=10)"
   ]
  },
  {
   "cell_type": "code",
   "execution_count": 3,
   "metadata": {},
   "outputs": [],
   "source": [
    "# 创建dataset对象\n",
    "mnist_train = tf.data.Dataset.from_tensor_slices((x_train, y_train))\n",
    "# 训练周期\n",
    "mnist_train = mnist_train.repeat(1)\n",
    "# 批次大小\n",
    "mnist_train = mnist_train.batch(32)\n",
    "# 创建dataset对象\n",
    "mnist_test = tf.data.Dataset.from_tensor_slices((x_test, y_test))\n",
    "# 训练周期\n",
    "mnist_test = mnist_test.repeat(1)\n",
    "# 批次大小\n",
    "mnist_test = mnist_test.batch(32)"
   ]
  },
  {
   "cell_type": "code",
   "execution_count": 4,
   "metadata": {},
   "outputs": [],
   "source": [
    "# 模型定义\n",
    "model = tf.keras.models.Sequential([\n",
    "  tf.keras.layers.Flatten(input_shape=(28, 28)),\n",
    "  tf.keras.layers.Dense(10, activation='softmax')\n",
    "])\n",
    "# 优化器定义\n",
    "optimizer = tf.keras.optimizers.SGD(0.1)\n",
    "# 训练loss\n",
    "train_loss = tf.keras.metrics.Mean(name='train_loss')\n",
    "# 训练准确率计算\n",
    "train_accuracy = tf.keras.metrics.CategoricalAccuracy(name='train_accuracy')\n",
    "# 测试loss\n",
    "test_loss = tf.keras.metrics.Mean(name='test_loss')\n",
    "# 测试准确率计算\n",
    "test_accuracy = tf.keras.metrics.CategoricalAccuracy(name='test_accuracy')"
   ]
  },
  {
   "cell_type": "code",
   "execution_count": 5,
   "metadata": {},
   "outputs": [],
   "source": [
    "# 模型训练\n",
    "@tf.function\n",
    "def train_step(data, label):\n",
    "    with tf.GradientTape() as tape:\n",
    "        # 传入数据预测结果\n",
    "        predictions = model(data)\n",
    "        # 计算loss\n",
    "        loss = tf.keras.losses.MSE(label, predictions)\n",
    "        # 计算权值调整\n",
    "        gradients = tape.gradient(loss, model.trainable_variables)\n",
    "        # 进行权值调整\n",
    "        optimizer.apply_gradients(zip(gradients, model.trainable_variables))\n",
    "        # 计算平均loss\n",
    "        train_loss(loss)\n",
    "        # 计算平均准确率\n",
    "        train_accuracy(label, predictions)\n",
    "    \n",
    "# 模型测试\n",
    "@tf.function\n",
    "def test_step(data, label):\n",
    "    # 传入数据预测结果\n",
    "    predictions = model(data)\n",
    "    # 计算loss\n",
    "    t_loss = tf.keras.losses.MSE(label, predictions)\n",
    "    # 计算平均loss\n",
    "    test_loss(t_loss)\n",
    "    # 计算平均准确率\n",
    "    test_accuracy(label, predictions)"
   ]
  },
  {
   "cell_type": "code",
   "execution_count": 7,
   "metadata": {},
   "outputs": [
    {
     "name": "stdout",
     "output_type": "stream",
     "text": [
      "Epoch 1, Loss: 0.0127, Accuracy: 0.919, Test Loss: 0.0125, Test Accuracy: 0.917\n",
      "Epoch 2, Loss: 0.0125, Accuracy: 0.921, Test Loss: 0.0124, Test Accuracy: 0.918\n",
      "Epoch 3, Loss: 0.0123, Accuracy: 0.922, Test Loss: 0.0123, Test Accuracy: 0.918\n",
      "Epoch 4, Loss: 0.0121, Accuracy: 0.923, Test Loss: 0.0123, Test Accuracy: 0.919\n",
      "Epoch 5, Loss: 0.0119, Accuracy: 0.924, Test Loss: 0.0122, Test Accuracy: 0.92\n"
     ]
    }
   ],
   "source": [
    "# 定义Checkpoint，用于保存优化器和模型参数\n",
    "ckpt = tf.train.Checkpoint(optimizer=optimizer, model=model)\n",
    "# 用于管理模型\n",
    "# ckpt为需要保存的内容\n",
    "# 'tf2_ckpts'为模型保存位置\n",
    "# max_to_keep设置最多保留几个模型\n",
    "manager = tf.train.CheckpointManager(ckpt, 'tf2_ckpts', max_to_keep=3)\n",
    "\n",
    "EPOCHS = 5\n",
    "# 训练5个周期\n",
    "for epoch in range(EPOCHS):\n",
    "    # 循环60000/32=1875次\n",
    "    for image, label in mnist_train:\n",
    "        # 训练模型\n",
    "        train_step(image, label)\n",
    "    # 循环10000/32=312.5->313次\n",
    "    for test_image, test_label in mnist_test:\n",
    "        # 测试模型\n",
    "        test_step(test_image, test_label)\n",
    "  \n",
    "    # 打印结果\n",
    "    template = 'Epoch {}, Loss: {:.3}, Accuracy: {:.3}, Test Loss: {:.3}, Test Accuracy: {:.3}'\n",
    "    print (template.format(epoch+1,\n",
    "                         train_loss.result(), \n",
    "                         train_accuracy.result(),\n",
    "                         test_loss.result(), \n",
    "                         test_accuracy.result()))\n",
    "\n",
    "    # 保存模型\n",
    "    # checkpoint_number设置模型编号\n",
    "    manager.save(checkpoint_number=epoch)"
   ]
  },
  {
   "cell_type": "code",
   "execution_count": null,
   "metadata": {},
   "outputs": [],
   "source": []
  },
  {
   "cell_type": "code",
   "execution_count": null,
   "metadata": {},
   "outputs": [],
   "source": []
  }
 ],
 "metadata": {
  "anaconda-cloud": {},
  "kernelspec": {
   "display_name": "Python 3",
   "language": "python",
   "name": "python3"
  },
  "language_info": {
   "codemirror_mode": {
    "name": "ipython",
    "version": 3
   },
   "file_extension": ".py",
   "mimetype": "text/x-python",
   "name": "python",
   "nbconvert_exporter": "python",
   "pygments_lexer": "ipython3",
   "version": "3.6.7"
  }
 },
 "nbformat": 4,
 "nbformat_minor": 1
}
