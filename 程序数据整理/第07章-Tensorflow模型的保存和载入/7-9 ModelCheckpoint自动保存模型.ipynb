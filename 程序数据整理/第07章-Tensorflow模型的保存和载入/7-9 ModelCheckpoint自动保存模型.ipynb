{
 "cells": [
  {
   "cell_type": "code",
   "execution_count": 38,
   "metadata": {},
   "outputs": [],
   "source": [
    "import tensorflow as tf\n",
    "from tensorflow.keras.optimizers import Adam\n",
    "from tensorflow.keras.callbacks import ModelCheckpoint,CSVLogger"
   ]
  },
  {
   "cell_type": "code",
   "execution_count": 40,
   "metadata": {},
   "outputs": [
    {
     "name": "stdout",
     "output_type": "stream",
     "text": [
      "Train on 60000 samples, validate on 10000 samples\n",
      "Epoch 1/6\n",
      "59744/60000 [============================>.] - ETA: 0s - loss: 0.3711 - accuracy: 0.8957 ETA: 0s - loss: 0.3733 - accuracy: 0.89\n",
      "Epoch 00001: val_accuracy improved from -inf to 0.91850, saving model to ModelCheckpoint/01-0.9185.h5\n",
      "60000/60000 [==============================] - 2s 39us/sample - loss: 0.3709 - accuracy: 0.8958 - val_loss: 0.2899 - val_accuracy: 0.9185\n",
      "Epoch 2/6\n",
      "59072/60000 [============================>.] - ETA: 0s - loss: 0.2875 - accuracy: 0.9185\n",
      "Epoch 00002: val_accuracy improved from 0.91850 to 0.92120, saving model to ModelCheckpoint/02-0.9212.h5\n",
      "60000/60000 [==============================] - 2s 39us/sample - loss: 0.2874 - accuracy: 0.9185 - val_loss: 0.2792 - val_accuracy: 0.9212\n",
      "Epoch 3/6\n",
      "59872/60000 [============================>.] - ETA: 0s - loss: 0.2765 - accuracy: 0.9224\n",
      "Epoch 00003: val_accuracy improved from 0.92120 to 0.92200, saving model to ModelCheckpoint/03-0.9220.h5\n",
      "60000/60000 [==============================] - 2s 36us/sample - loss: 0.2763 - accuracy: 0.9225 - val_loss: 0.2813 - val_accuracy: 0.9220\n",
      "Epoch 4/6\n",
      "58496/60000 [============================>.] - ETA: 0s - loss: 0.2702 - accuracy: 0.9243\n",
      "Epoch 00004: val_accuracy improved from 0.92200 to 0.92630, saving model to ModelCheckpoint/04-0.9263.h5\n",
      "60000/60000 [==============================] - 2s 38us/sample - loss: 0.2701 - accuracy: 0.9243 - val_loss: 0.2696 - val_accuracy: 0.9263\n",
      "Epoch 5/6\n",
      "59936/60000 [============================>.] - ETA: 0s - loss: 0.2658 - accuracy: 0.9261\n",
      "Epoch 00005: val_accuracy did not improve from 0.92630\n",
      "60000/60000 [==============================] - 2s 36us/sample - loss: 0.2658 - accuracy: 0.9261 - val_loss: 0.2766 - val_accuracy: 0.9254\n",
      "Epoch 6/6\n",
      "58816/60000 [============================>.] - ETA: 0s - loss: 0.2617 - accuracy: 0.9269\n",
      "Epoch 00006: val_accuracy did not improve from 0.92630\n",
      "60000/60000 [==============================] - 2s 36us/sample - loss: 0.2624 - accuracy: 0.9267 - val_loss: 0.2866 - val_accuracy: 0.9217\n"
     ]
    },
    {
     "data": {
      "text/plain": [
       "<tensorflow.python.keras.callbacks.History at 0xb355b4828>"
      ]
     },
     "execution_count": 40,
     "metadata": {},
     "output_type": "execute_result"
    }
   ],
   "source": [
    "# 载入数据集\n",
    "mnist = tf.keras.datasets.mnist\n",
    "# 载入数据，数据载入的时候就已经划分好训练集和测试集\n",
    "(x_train, y_train), (x_test, y_test) = mnist.load_data()\n",
    "# 对训练集和测试集的数据进行归一化处理，有助于提升模型训练速度\n",
    "x_train, x_test = x_train / 255.0, x_test / 255.0\n",
    "# 把训练集和测试集的标签转为独热编码\n",
    "y_train = tf.keras.utils.to_categorical(y_train,num_classes=10)\n",
    "y_test = tf.keras.utils.to_categorical(y_test,num_classes=10)\n",
    "\n",
    "# 模型定义\n",
    "model = tf.keras.models.Sequential([\n",
    "  tf.keras.layers.Flatten(input_shape=(28, 28)),\n",
    "  tf.keras.layers.Dense(10, activation='softmax')\n",
    "])\n",
    "\n",
    "# 定义优化器，代价函数\n",
    "adam = Adam(0.003)\n",
    "model.compile(optimizer=adam,\n",
    "              loss='categorical_crossentropy',\n",
    "              metrics=['accuracy'])\n",
    "\n",
    "# 模型保存位置\n",
    "output_model = 'ModelCheckpoint/'\n",
    "# log保存位置\n",
    "output_log = 'log/'\n",
    "\n",
    "# ModelCheckpoint用于自动保存模型\n",
    "# filepath可以设置模型保存位置以及模型信息，epoch表示训练周期数，val_accuracy表示验证集准确值\n",
    "# monitor可选{'val_accuracy','val_loss','accuracy','loss'},一般'val_accuracy'用得比较多\n",
    "# verbose=1表示保存模型的时候打印信息\n",
    "# save_best_only=True表示只保存>best_val_accuracy的模型\n",
    "# CSVLogger也是callbacks，用于生成模型训练的log\n",
    "callbacks = [\n",
    "    ModelCheckpoint(filepath=output_model+'{epoch:02d}-{val_accuracy:.4f}.h5',\n",
    "                    monitor='val_accuracy',\n",
    "                    verbose=1,\n",
    "                    save_best_only=True),\n",
    "    CSVLogger(output_log + 'log.csv')\n",
    "]\n",
    "\n",
    "# 传入训练集数据和标签训练模型\n",
    "model.fit(x_train, y_train,\n",
    "          epochs=6, batch_size=32,\n",
    "          validation_data=(x_test,y_test),\n",
    "          callbacks=callbacks)"
   ]
  },
  {
   "cell_type": "code",
   "execution_count": null,
   "metadata": {},
   "outputs": [],
   "source": []
  }
 ],
 "metadata": {
  "anaconda-cloud": {},
  "kernelspec": {
   "display_name": "Python 3",
   "language": "python",
   "name": "python3"
  },
  "language_info": {
   "codemirror_mode": {
    "name": "ipython",
    "version": 3
   },
   "file_extension": ".py",
   "mimetype": "text/x-python",
   "name": "python",
   "nbconvert_exporter": "python",
   "pygments_lexer": "ipython3",
   "version": "3.6.7"
  }
 },
 "nbformat": 4,
 "nbformat_minor": 1
}
