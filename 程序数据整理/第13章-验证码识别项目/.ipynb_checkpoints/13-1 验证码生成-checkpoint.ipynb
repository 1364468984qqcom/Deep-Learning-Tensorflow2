{
 "cells": [
  {
   "cell_type": "code",
   "execution_count": 1,
   "metadata": {},
   "outputs": [
    {
     "name": "stdout",
     "output_type": "stream",
     "text": [
      "生成完毕\n"
     ]
    }
   ],
   "source": [
    "# 安装验证码生成库:pip install captcha\n",
    "from captcha.image import ImageCaptcha  \n",
    "import random\n",
    "import string\n",
    "\n",
    "# 字符包含所有数字和所有大小写英文字母，一共62个\n",
    "characters = string.digits+string.ascii_letters\n",
    "\n",
    "# 随机产生验证码，长度为4\n",
    "def random_captcha_text(char_set=characters, captcha_size=4):\n",
    "    # 验证码列表\n",
    "    captcha_text = []\n",
    "    for i in range(captcha_size):\n",
    "        # 随机选择\n",
    "        c = random.choice(char_set)\n",
    "        # 加入验证码列表\n",
    "        captcha_text.append(c)\n",
    "    return captcha_text\n",
    " \n",
    "# 生成字符对应的验证码\n",
    "def gen_captcha_text_and_image():\n",
    "    # 验证码图片宽高可以设置，默认width=160, height=60\n",
    "    image = ImageCaptcha(width=160, height=60)\n",
    "    # 获得随机生成的验证码\n",
    "    captcha_text = random_captcha_text()\n",
    "    # 把验证码列表转为字符串\n",
    "    captcha_text = ''.join(captcha_text)\n",
    "    # 保存验证码图片\n",
    "    image.write(captcha_text, 'captcha/' + captcha_text + '.jpg')\n",
    "\n",
    "\n",
    "# 产生1000次随机验证码\n",
    "# 真正的数量可能会少于1000\n",
    "# 因为重名的图片会被覆盖掉\n",
    "num = 1000\n",
    "for i in range(num):\n",
    "    gen_captcha_text_and_image()\n",
    "\n",
    "print(\"生成完毕\")"
   ]
  },
  {
   "cell_type": "code",
   "execution_count": null,
   "metadata": {},
   "outputs": [],
   "source": []
  }
 ],
 "metadata": {
  "anaconda-cloud": {},
  "kernelspec": {
   "display_name": "Python 3",
   "language": "python",
   "name": "python3"
  },
  "language_info": {
   "codemirror_mode": {
    "name": "ipython",
    "version": 3
   },
   "file_extension": ".py",
   "mimetype": "text/x-python",
   "name": "python",
   "nbconvert_exporter": "python",
   "pygments_lexer": "ipython3",
   "version": "3.6.7"
  }
 },
 "nbformat": 4,
 "nbformat_minor": 2
}
