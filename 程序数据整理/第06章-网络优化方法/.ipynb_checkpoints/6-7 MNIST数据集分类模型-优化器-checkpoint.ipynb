{
 "cells": [
  {
   "cell_type": "code",
   "execution_count": 7,
   "metadata": {},
   "outputs": [],
   "source": [
    "import tensorflow as tf\n",
    "from tensorflow.keras.optimizers import SGD,Adam\n",
    "import matplotlib.pyplot as plt\n",
    "import numpy as np"
   ]
  },
  {
   "cell_type": "code",
   "execution_count": 8,
   "metadata": {},
   "outputs": [
    {
     "name": "stdout",
     "output_type": "stream",
     "text": [
      "Train on 60000 samples, validate on 10000 samples\n",
      "Epoch 1/6\n",
      "60000/60000 [==============================] - 2s 36us/sample - loss: 0.0196 - accuracy: 0.8819 - val_loss: 0.0131 - val_accuracy: 0.9175\n",
      "Epoch 2/6\n",
      "60000/60000 [==============================] - 2s 30us/sample - loss: 0.0129 - accuracy: 0.9182 - val_loss: 0.0118 - val_accuracy: 0.9241\n",
      "Epoch 3/6\n",
      "60000/60000 [==============================] - 2s 30us/sample - loss: 0.0119 - accuracy: 0.9247 - val_loss: 0.0113 - val_accuracy: 0.9268\n",
      "Epoch 4/6\n",
      "60000/60000 [==============================] - 2s 30us/sample - loss: 0.0113 - accuracy: 0.9283 - val_loss: 0.0110 - val_accuracy: 0.9291\n",
      "Epoch 5/6\n",
      "60000/60000 [==============================] - 2s 30us/sample - loss: 0.0110 - accuracy: 0.9309 - val_loss: 0.0110 - val_accuracy: 0.9291\n",
      "Epoch 6/6\n",
      "60000/60000 [==============================] - 2s 31us/sample - loss: 0.0107 - accuracy: 0.9327 - val_loss: 0.0109 - val_accuracy: 0.9316\n",
      "Train on 60000 samples, validate on 10000 samples\n",
      "Epoch 1/6\n",
      "60000/60000 [==============================] - 3s 47us/sample - loss: 0.0499 - accuracy: 0.6986 - val_loss: 0.0285 - val_accuracy: 0.8521\n",
      "Epoch 2/6\n",
      "60000/60000 [==============================] - 2s 29us/sample - loss: 0.0257 - accuracy: 0.8583 - val_loss: 0.0216 - val_accuracy: 0.8789\n",
      "Epoch 3/6\n",
      "60000/60000 [==============================] - 2s 31us/sample - loss: 0.0214 - accuracy: 0.8764 - val_loss: 0.0191 - val_accuracy: 0.8912\n",
      "Epoch 4/6\n",
      "60000/60000 [==============================] - 2s 30us/sample - loss: 0.0194 - accuracy: 0.8855 - val_loss: 0.0177 - val_accuracy: 0.8959\n",
      "Epoch 5/6\n",
      "60000/60000 [==============================] - 2s 31us/sample - loss: 0.0182 - accuracy: 0.8909 - val_loss: 0.0167 - val_accuracy: 0.8998\n",
      "Epoch 6/6\n",
      "60000/60000 [==============================] - 2s 34us/sample - loss: 0.0173 - accuracy: 0.8953 - val_loss: 0.0160 - val_accuracy: 0.9033\n"
     ]
    }
   ],
   "source": [
    "# 载入数据集\n",
    "mnist = tf.keras.datasets.mnist\n",
    "# 载入训练集和测试集\n",
    "(x_train, y_train), (x_test, y_test) = mnist.load_data()\n",
    "# 对训练集和测试集的数据进行归一化处理，有助于提升模型训练速度\n",
    "x_train, x_test = x_train / 255.0, x_test / 255.0\n",
    "# 把训练集和测试集的标签转为独热编码\n",
    "y_train = tf.keras.utils.to_categorical(y_train,num_classes=10)\n",
    "y_test = tf.keras.utils.to_categorical(y_test,num_classes=10)\n",
    "\n",
    "# 模型定义\n",
    "model1 = tf.keras.models.Sequential([\n",
    "  tf.keras.layers.Flatten(input_shape=(28, 28)),\n",
    "  tf.keras.layers.Dense(10, activation='softmax')\n",
    "])\n",
    "# 在定义一个一模一样的模型用于对比测试\n",
    "model2 = tf.keras.models.Sequential([\n",
    "  tf.keras.layers.Flatten(input_shape=(28, 28)),\n",
    "  tf.keras.layers.Dense(10, activation='softmax')\n",
    "])\n",
    "\n",
    "# 定义sgd优化器，学习率0.1\n",
    "sgd = SGD(0.1)\n",
    "# 定义Adam优化器，学习率0.001,Adam优化器学习率通常较低\n",
    "adam = Adam(0.001)\n",
    "# loss='mse'定义均方差代价函数\n",
    "# metrics=['accuracy']模型在训练的过程中同时计算准确率\n",
    "# model1用Adam优化器，model2用sgd优化器\n",
    "model1.compile(optimizer=adam,\n",
    "              loss='mse',\n",
    "              metrics=['accuracy'])\n",
    "model2.compile(optimizer=sgd,\n",
    "              loss='mse',\n",
    "              metrics=['accuracy'])\n",
    "\n",
    "# 传入训练集数据和标签训练模型\n",
    "# 周期大小为6（把所有训练集数据训练一次称为训练一个周期）\n",
    "epochs = 6\n",
    "# 批次大小为32（每次训练模型传入32个数据进行训练）\n",
    "batch_size=32\n",
    "# validation_data设置验证集数据\n",
    "# 先训练model1\n",
    "history1 = model1.fit(x_train, y_train, epochs=epochs, batch_size=batch_size, validation_data=(x_test,y_test))\n",
    "# 再训练model2\n",
    "history2 = model2.fit(x_train, y_train, epochs=epochs, batch_size=batch_size, validation_data=(x_test,y_test))"
   ]
  },
  {
   "cell_type": "code",
   "execution_count": 9,
   "metadata": {},
   "outputs": [
    {
     "data": {
      "image/png": "[encoded data removed]",
      "text/plain": [
       "<Figure size 432x288 with 1 Axes>"
      ]
     },
     "metadata": {},
     "output_type": "display_data"
    }
   ],
   "source": [
    "# 画出model1验证集准确率曲线图\n",
    "plt.plot(np.arange(epochs),history1.history['val_accuracy'],c='b',label='Adam')\n",
    "# 画出model2验证集准确率曲线图\n",
    "plt.plot(np.arange(epochs),history2.history['val_accuracy'],c='y',label='SGD')\n",
    "# 图例\n",
    "plt.legend()\n",
    "# x坐标描述\n",
    "plt.xlabel('epochs')\n",
    "# y坐标描述\n",
    "plt.ylabel('accuracy')\n",
    "# 显示图像\n",
    "plt.show()"
   ]
  },
  {
   "cell_type": "code",
   "execution_count": null,
   "metadata": {},
   "outputs": [],
   "source": []
  }
 ],
 "metadata": {
  "anaconda-cloud": {},
  "kernelspec": {
   "display_name": "Python 3",
   "language": "python",
   "name": "python3"
  },
  "language_info": {
   "codemirror_mode": {
    "name": "ipython",
    "version": 3
   },
   "file_extension": ".py",
   "mimetype": "text/x-python",
   "name": "python",
   "nbconvert_exporter": "python",
   "pygments_lexer": "ipython3",
   "version": "3.6.7"
  }
 },
 "nbformat": 4,
 "nbformat_minor": 1
}
