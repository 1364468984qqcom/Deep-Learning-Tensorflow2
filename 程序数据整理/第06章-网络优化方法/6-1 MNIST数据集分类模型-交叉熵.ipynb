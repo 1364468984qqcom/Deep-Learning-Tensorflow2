{
 "cells": [
  {
   "cell_type": "code",
   "execution_count": 28,
   "metadata": {},
   "outputs": [],
   "source": [
    "import tensorflow as tf\n",
    "from tensorflow.keras.optimizers import SGD\n",
    "import matplotlib.pyplot as plt\n",
    "import numpy as np"
   ]
  },
  {
   "cell_type": "code",
   "execution_count": 33,
   "metadata": {},
   "outputs": [
    {
     "name": "stdout",
     "output_type": "stream",
     "text": [
      "Train on 60000 samples, validate on 10000 samples\n",
      "Epoch 1/8\n",
      "60000/60000 [==============================] - 2s 33us/sample - loss: 0.0515 - accuracy: 0.6711 - val_loss: 0.0295 - val_accuracy: 0.8530\n",
      "Epoch 2/8\n",
      "60000/60000 [==============================] - 2s 29us/sample - loss: 0.0260 - accuracy: 0.8587 - val_loss: 0.0218 - val_accuracy: 0.8819\n",
      "Epoch 3/8\n",
      "60000/60000 [==============================] - 2s 29us/sample - loss: 0.0214 - accuracy: 0.8774 - val_loss: 0.0190 - val_accuracy: 0.8920\n",
      "Epoch 4/8\n",
      "60000/60000 [==============================] - 2s 29us/sample - loss: 0.0194 - accuracy: 0.8859 - val_loss: 0.0176 - val_accuracy: 0.8992\n",
      "Epoch 5/8\n",
      "60000/60000 [==============================] - 2s 29us/sample - loss: 0.0181 - accuracy: 0.8915 - val_loss: 0.0167 - val_accuracy: 0.9020\n",
      "Epoch 6/8\n",
      "60000/60000 [==============================] - 2s 29us/sample - loss: 0.0173 - accuracy: 0.8961 - val_loss: 0.0160 - val_accuracy: 0.9052\n",
      "Epoch 7/8\n",
      "60000/60000 [==============================] - 2s 29us/sample - loss: 0.0167 - accuracy: 0.8993 - val_loss: 0.0154 - val_accuracy: 0.9077\n",
      "Epoch 8/8\n",
      "60000/60000 [==============================] - 2s 29us/sample - loss: 0.0162 - accuracy: 0.9020 - val_loss: 0.0150 - val_accuracy: 0.9091\n",
      "Train on 60000 samples, validate on 10000 samples\n",
      "Epoch 1/8\n",
      "60000/60000 [==============================] - 2s 35us/sample - loss: 0.4165 - accuracy: 0.8858 - val_loss: 0.3117 - val_accuracy: 0.9124\n",
      "Epoch 2/8\n",
      "60000/60000 [==============================] - 2s 33us/sample - loss: 0.3144 - accuracy: 0.9114 - val_loss: 0.2916 - val_accuracy: 0.9187\n",
      "Epoch 3/8\n",
      "60000/60000 [==============================] - 2s 32us/sample - loss: 0.2974 - accuracy: 0.9167 - val_loss: 0.2855 - val_accuracy: 0.9211\n",
      "Epoch 4/8\n",
      "60000/60000 [==============================] - 2s 30us/sample - loss: 0.2881 - accuracy: 0.9192 - val_loss: 0.2783 - val_accuracy: 0.9226\n",
      "Epoch 5/8\n",
      "60000/60000 [==============================] - 2s 30us/sample - loss: 0.2822 - accuracy: 0.9209 - val_loss: 0.2783 - val_accuracy: 0.9202\n",
      "Epoch 6/8\n",
      "60000/60000 [==============================] - 2s 32us/sample - loss: 0.2774 - accuracy: 0.9226 - val_loss: 0.2776 - val_accuracy: 0.9215\n",
      "Epoch 7/8\n",
      "60000/60000 [==============================] - 2s 32us/sample - loss: 0.2745 - accuracy: 0.9230 - val_loss: 0.2722 - val_accuracy: 0.9222\n",
      "Epoch 8/8\n",
      "60000/60000 [==============================] - 2s 32us/sample - loss: 0.2713 - accuracy: 0.9244 - val_loss: 0.2736 - val_accuracy: 0.9233\n"
     ]
    }
   ],
   "source": [
    "# 载入数据集\n",
    "mnist = tf.keras.datasets.mnist\n",
    "# 载入数据，数据载入的时候就已经划分好训练集和测试集\n",
    "# 训练集数据x_train的数据形状为（60000，28，28）\n",
    "# 训练集标签y_train的数据形状为（60000）\n",
    "# 测试集数据x_test的数据形状为（10000，28，28）\n",
    "# 测试集标签y_test的数据形状为（10000）\n",
    "(x_train, y_train), (x_test, y_test) = mnist.load_data()\n",
    "# 对训练集和测试集的数据进行归一化处理，有助于提升模型训练速度\n",
    "x_train, x_test = x_train / 255.0, x_test / 255.0\n",
    "# 把训练集和测试集的标签转为独热编码\n",
    "y_train = tf.keras.utils.to_categorical(y_train,num_classes=10)\n",
    "y_test = tf.keras.utils.to_categorical(y_test,num_classes=10)\n",
    "\n",
    "# 模型定义\n",
    "# 先用Flatten把数据从3维变成2维，(60000,28,28)->(60000,784)\n",
    "# 设置输入数据形状input_shape不需要包含数据的数量，（28,28）即可\n",
    "model1 = tf.keras.models.Sequential([\n",
    "  tf.keras.layers.Flatten(input_shape=(28, 28)),\n",
    "  tf.keras.layers.Dense(10, activation='softmax')\n",
    "])\n",
    "# 在定义一个一模一样的模型用于对比测试\n",
    "model2 = tf.keras.models.Sequential([\n",
    "  tf.keras.layers.Flatten(input_shape=(28, 28)),\n",
    "  tf.keras.layers.Dense(10, activation='softmax')\n",
    "])\n",
    "\n",
    "# sgd定义随机梯度下降法优化器，学习率0.1\n",
    "# loss='mse'定义均方差代价函数\n",
    "# loss='categorical_crossentropy'定义交叉熵代价函数\n",
    "# metrics=['accuracy']模型在训练的过程中同时计算准确率\n",
    "# model1用均方差代价函数，model2用交叉熵代价函数\n",
    "sgd = SGD(0.1)\n",
    "model1.compile(optimizer=sgd,\n",
    "              loss='mse',\n",
    "              metrics=['accuracy'])\n",
    "model2.compile(optimizer=sgd,\n",
    "              loss='categorical_crossentropy',\n",
    "              metrics=['accuracy'])\n",
    "\n",
    "# 传入训练集数据和标签训练模型\n",
    "# 周期大小为8（把所有训练集数据训练一次称为训练一个周期）\n",
    "epochs = 8\n",
    "# 批次大小为32（每次训练模型传入32个数据进行训练）\n",
    "batch_size=32\n",
    "# validation_data设置验证集数据\n",
    "# 先训练model1\n",
    "history1 = model1.fit(x_train, y_train, epochs=epochs, batch_size=batch_size, validation_data=(x_test,y_test))\n",
    "# 再训练model2\n",
    "history2 = model2.fit(x_train, y_train, epochs=epochs, batch_size=batch_size, validation_data=(x_test,y_test))"
   ]
  },
  {
   "cell_type": "code",
   "execution_count": 35,
   "metadata": {},
   "outputs": [
    {
     "data": {
      "image/png": "[encoded data removed]",
      "text/plain": [
       "<Figure size 432x288 with 1 Axes>"
      ]
     },
     "metadata": {},
     "output_type": "display_data"
    }
   ],
   "source": [
    "# 画出model1验证集准确率曲线图\n",
    "plt.plot(np.arange(epochs),history1.history['val_accuracy'],c='b',label='mean_squared_error')\n",
    "# 画出model2验证集准确率曲线图\n",
    "plt.plot(np.arange(epochs),history2.history['val_accuracy'],c='y',label='softmax_cross_entropy')\n",
    "# 图例\n",
    "plt.legend()\n",
    "# x坐标描述\n",
    "plt.xlabel('epochs')\n",
    "# y坐标描述\n",
    "plt.ylabel('accuracy')\n",
    "# 显示图像\n",
    "plt.show()"
   ]
  },
  {
   "cell_type": "code",
   "execution_count": null,
   "metadata": {},
   "outputs": [],
   "source": []
  }
 ],
 "metadata": {
  "anaconda-cloud": {},
  "kernelspec": {
   "display_name": "Python 3",
   "language": "python",
   "name": "python3"
  },
  "language_info": {
   "codemirror_mode": {
    "name": "ipython",
    "version": 3
   },
   "file_extension": ".py",
   "mimetype": "text/x-python",
   "name": "python",
   "nbconvert_exporter": "python",
   "pygments_lexer": "ipython3",
   "version": "3.6.7"
  }
 },
 "nbformat": 4,
 "nbformat_minor": 1
}
