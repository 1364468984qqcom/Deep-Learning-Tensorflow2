{
 "cells": [
  {
   "cell_type": "code",
   "execution_count": 1,
   "metadata": {},
   "outputs": [
    {
     "name": "stderr",
     "output_type": "stream",
     "text": [
      "D:\\Anaconda3\\lib\\site-packages\\numpy\\_distributor_init.py:32: UserWarning: loaded more than 1 DLL from .libs:\n",
      "D:\\Anaconda3\\lib\\site-packages\\numpy\\.libs\\libopenblas.IPBC74C7KURV7CB2PKT5Z5FNR3SIBV4J.gfortran-win_amd64.dll\n",
      "D:\\Anaconda3\\lib\\site-packages\\numpy\\.libs\\libopenblas.PYQHXLVVQ7VESDPUVUADXEVJOBGHJPAY.gfortran-win_amd64.dll\n",
      "  stacklevel=1)\n"
     ]
    }
   ],
   "source": [
    "# 安装结巴分词\n",
    "# pip install jieba\n",
    "import jieba \n",
    "import pandas as pd \n",
    "import numpy as np \n",
    "from tensorflow.keras.layers import Dense,Input,Dropout,Embedding,LSTM,Bidirectional\n",
    "from tensorflow.keras.preprocessing.text import Tokenizer\n",
    "from tensorflow.keras.preprocessing.sequence import pad_sequences\n",
    "from tensorflow.keras.models import Model\n",
    "from sklearn.model_selection import train_test_split\n",
    "import json\n",
    "# pip install plot_model\n",
    "from plot_model import plot_model"
   ]
  },
  {
   "cell_type": "code",
   "execution_count": 2,
   "metadata": {},
   "outputs": [],
   "source": [
    "# 批次大小\n",
    "batch_size = 128\n",
    "# 训练周期\n",
    "epochs = 3\n",
    "# 词向量长度\n",
    "embedding_dims = 128\n",
    "# cell数量\n",
    "lstm_cell = 64"
   ]
  },
  {
   "cell_type": "code",
   "execution_count": 3,
   "metadata": {},
   "outputs": [
    {
     "name": "stderr",
     "output_type": "stream",
     "text": [
      "Building prefix dict from the default dictionary ...\n",
      "WARNING: Logging before flag parsing goes to stderr.\n",
      "I0423 11:47:15.315874  3252 __init__.py:113] Building prefix dict from the default dictionary ...\n",
      "Loading model from cache C:\\Users\\qbf\\AppData\\Local\\Temp\\jieba.cache\n",
      "I0423 11:47:15.316844  3252 __init__.py:133] Loading model from cache C:\\Users\\qbf\\AppData\\Local\\Temp\\jieba.cache\n",
      "Loading model cost 0.511 seconds.\n",
      "I0423 11:47:15.827499  3252 __init__.py:165] Loading model cost 0.511 seconds.\n",
      "Prefix dict has been built successfully.\n",
      "I0423 11:47:15.828500  3252 __init__.py:166] Prefix dict has been built successfully.\n"
     ]
    },
    {
     "data": {
      "image/png": "[encoded data removed]",
      "text/plain": [
       "<IPython.core.display.Image object>"
      ]
     },
     "execution_count": 3,
     "metadata": {},
     "output_type": "execute_result"
    }
   ],
   "source": [
    "########step1-数据预处理########\n",
    "# 这个数据前半部分都是正样本，后半部分都是负样本\n",
    "data = pd.read_csv('weibo_senti_100k.csv')\n",
    "# 计算正样本数量\n",
    "poslen = sum(data['label']==1)\n",
    "# 计算负样本数量\n",
    "neglen = sum(data['label']==0)\n",
    "#定义分词函数，对传入的x进行分词\n",
    "cw = lambda x: list(jieba.cut(x))\n",
    "# apply传入一个函数，把cw函数应用到data['review']的每一行\n",
    "# 把分词后的结果保存到data['words']中\n",
    "data['words'] = data['review'].apply(cw)\n",
    "# 计算一条数据最多有多少个词汇\n",
    "max_length = max([len(x) for x in data['words']])\n",
    "# 把data['words']中所有的list都变成字符串格式\n",
    "texts = [' '.join(x) for x in data['words']]\n",
    "# 实例化Tokenizer，设置字典中最大词汇数为30000\n",
    "# Tokenizer会自动过滤掉一些符号比如：!\"#$%&()*+,-./:;<=>?@[\\\\]^_`{|}~\\t\\n\n",
    "tokenizer = Tokenizer(num_words=30000)\n",
    "# 传入我们的训练数据，建立词典，词的编号根据词频设定，频率越大，编号越小，\n",
    "tokenizer.fit_on_texts(texts) \n",
    "# 把词转换为编号，编号大于30000的词会被过滤掉\n",
    "sequences = tokenizer.texts_to_sequences(texts) \n",
    "# 把序列设定为max_length的长度，超过max_length的部分舍弃，不到max_length则补0\n",
    "# padding='pre'在句子前面进行填充，padding='post'在句子后面进行填充\n",
    "X = pad_sequences(sequences, maxlen=max_length, padding='pre')\n",
    "\n",
    "########step2-保存tokenizer########\n",
    "# 把token_config保存到json文件中，模型预测阶段可以使用\n",
    "file = open('token_config.json','w',encoding='utf-8')\n",
    "# 把tokenizer变成json数据\n",
    "token_config = tokenizer.to_json()\n",
    "# 保存json数据\n",
    "json.dump(token_config, file)\n",
    "\n",
    "########step3-定义标签切分数据########\n",
    "# 定义标签\n",
    "# 01为正样本，10为负样本\n",
    "positive_labels = [[0, 1] for _ in range(poslen)]\n",
    "negative_labels = [[1, 0] for _ in range(neglen)]\n",
    "# 合并标签\n",
    "Y = np.array(positive_labels + negative_labels)\n",
    "# 切分数据集\n",
    "x_train,x_test,y_train,y_test = train_test_split(X, Y, test_size=0.2)\n",
    "\n",
    "########step4-搭建模型########\n",
    "# 定义函数式模型\n",
    "# 定义模型输入，shape-(batch, 202)\n",
    "sequence_input = Input(shape=(max_length,))\n",
    "# Embedding层，30000表示30000个词，每个词对应的向量为128维\n",
    "embedding_layer = Embedding(input_dim=30000, output_dim=embedding_dims)\n",
    "# embedded_sequences的shape-(batch, 202, 128)\n",
    "embedded_sequences = embedding_layer(sequence_input)\n",
    "# 双向LSTM\n",
    "x = Bidirectional(LSTM(lstm_cell))(embedded_sequences)\n",
    "\n",
    "# 全连接层\n",
    "x = Dense(128, activation='relu')(x)\n",
    "# Dropout层\n",
    "x = Dropout(0.5)(x)\n",
    "# 输出层\n",
    "preds = Dense(2, activation='softmax')(x)\n",
    "# 定义模型\n",
    "model = Model(sequence_input, preds)\n",
    "# 画图\n",
    "plot_model(model)"
   ]
  },
  {
   "cell_type": "code",
   "execution_count": 4,
   "metadata": {},
   "outputs": [
    {
     "name": "stdout",
     "output_type": "stream",
     "text": [
      "Train on 95990 samples, validate on 23998 samples\n",
      "Epoch 1/3\n",
      "95990/95990 [==============================] - 39s 410us/sample - loss: 0.1177 - acc: 0.9642 - val_loss: 0.0710 - val_acc: 0.9821\n",
      "Epoch 2/3\n",
      "95990/95990 [==============================] - 36s 370us/sample - loss: 0.0602 - acc: 0.9816 - val_loss: 0.0532 - val_acc: 0.9814\n",
      "Epoch 3/3\n",
      "95990/95990 [==============================] - 35s 367us/sample - loss: 0.0440 - acc: 0.9818 - val_loss: 0.0519 - val_acc: 0.9820\n"
     ]
    }
   ],
   "source": [
    "########step5-模型训练和保存########\n",
    "# 定义代价函数，优化器\n",
    "model.compile(loss='categorical_crossentropy',\n",
    "              optimizer='adam',\n",
    "              metrics=['acc'])\n",
    "\n",
    "# 训练模型\n",
    "model.fit(x_train, y_train,\n",
    "          batch_size=batch_size,\n",
    "          epochs=epochs,\n",
    "          validation_data=(x_test, y_test))\n",
    "\n",
    "# 保存模型\n",
    "model.save('lstm_model.h5')"
   ]
  },
  {
   "cell_type": "code",
   "execution_count": null,
   "metadata": {},
   "outputs": [],
   "source": []
  }
 ],
 "metadata": {
  "anaconda-cloud": {},
  "kernelspec": {
   "display_name": "Python 3",
   "language": "python",
   "name": "python3"
  },
  "language_info": {
   "codemirror_mode": {
    "name": "ipython",
    "version": 3
   },
   "file_extension": ".py",
   "mimetype": "text/x-python",
   "name": "python",
   "nbconvert_exporter": "python",
   "pygments_lexer": "ipython3",
   "version": "3.6.7"
  }
 },
 "nbformat": 4,
 "nbformat_minor": 1
}
