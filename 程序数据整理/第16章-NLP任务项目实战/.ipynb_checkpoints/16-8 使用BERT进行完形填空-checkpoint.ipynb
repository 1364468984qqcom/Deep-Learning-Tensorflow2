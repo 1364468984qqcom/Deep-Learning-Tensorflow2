{
 "cells": [
  {
   "cell_type": "code",
   "execution_count": 1,
   "metadata": {},
   "outputs": [
    {
     "name": "stderr",
     "output_type": "stream",
     "text": [
      "/Users/qin/anaconda3/lib/python3.6/site-packages/h5py/__init__.py:36: FutureWarning: Conversion of the second argument of issubdtype from `float` to `np.floating` is deprecated. In future, it will be treated as `np.float64 == np.dtype(float).type`.\n",
      "  from ._conv import register_converters as _register_converters\n"
     ]
    }
   ],
   "source": [
    "from tf2_bert.models import build_transformer_model\n",
    "from tf2_bert.tokenizers import Tokenizer\n",
    "import numpy as np"
   ]
  },
  {
   "cell_type": "code",
   "execution_count": 2,
   "metadata": {},
   "outputs": [],
   "source": [
    "# 定义预训练模型路径\n",
    "model_dir = './chinese_roberta_wwm_ext_L-12_H-768_A-12'\n",
    "# BERT参数\n",
    "config_path = model_dir+'/bert_config.json'\n",
    "# 保存模型权值参数的文件\n",
    "checkpoint_path = model_dir+'/bert_model.ckpt'\n",
    "# 词表\n",
    "dict_path = model_dir+'/vocab.txt'\n",
    "# 建立分词器\n",
    "tokenizer = Tokenizer(dict_path) \n",
    "# 建立模型，加载权重\n",
    "# with_mlm=True表示使用mlm的功能，模型结构及最后的输出会发生一些变化，可以用来预测被mask的token\n",
    "model = build_transformer_model(config_path, checkpoint_path, with_mlm=True) "
   ]
  },
  {
   "cell_type": "code",
   "execution_count": 3,
   "metadata": {},
   "outputs": [
    {
     "name": "stdout",
     "output_type": "stream",
     "text": [
      "学习\n"
     ]
    }
   ],
   "source": [
    "# 分词并转化为编码\n",
    "token_ids, segment_ids = tokenizer.encode('机器学习是一门交叉学科')\n",
    "# 把“学”字和“习”字变成“[MASK]”符号\n",
    "token_ids[3] = token_ids[4] = tokenizer._token_dict['[MASK]']\n",
    "# 增加一个维度表示批次大小为1\n",
    "token_ids = np.expand_dims(token_ids,axis=0)\n",
    "# 增加一个维度表示批次大小为1\n",
    "segment_ids = np.expand_dims(segment_ids,axis=0)\n",
    "# 传入模型进行预测\n",
    "pre = model.predict([token_ids, segment_ids])[0]\n",
    "# 我们可以看到第3，4个位置经过模型预测，[MASK]变成了“学习”\n",
    "print(tokenizer.decode(pre[3:5].argmax(axis=1)))  "
   ]
  },
  {
   "cell_type": "code",
   "execution_count": 4,
   "metadata": {},
   "outputs": [
    {
     "name": "stdout",
     "output_type": "stream",
     "text": [
      "什么\n"
     ]
    }
   ],
   "source": [
    "# 分词并转化为编码\n",
    "token_ids, segment_ids = tokenizer.encode('机器学习是一门交叉学科')\n",
    "# 把“交”字和“叉”字变成“[MASK]”符号\n",
    "token_ids[8] = token_ids[9] = tokenizer._token_dict['[MASK]']\n",
    "# 增加一个维度表示批次大小为1\n",
    "token_ids = np.expand_dims(token_ids,axis=0)\n",
    "# 增加一个维度表示批次大小为1\n",
    "segment_ids = np.expand_dims(segment_ids,axis=0)\n",
    "# 传入模型进行预测\n",
    "pre = model.predict([token_ids, segment_ids])[0]\n",
    "# 我们可以看到第8，9个位置经过模型预测，[MASK]变成了“什么”，句子变成了一个疑问句\n",
    "# 虽然模型没有预测出原始句子的词汇，不过作为完形填空，填入一个“什么”句子也是正确\n",
    "print(tokenizer.decode(pre[8:10].argmax(axis=1)))  "
   ]
  },
  {
   "cell_type": "code",
   "execution_count": null,
   "metadata": {},
   "outputs": [],
   "source": []
  }
 ],
 "metadata": {
  "kernelspec": {
   "display_name": "Python 3",
   "language": "python",
   "name": "python3"
  },
  "language_info": {
   "codemirror_mode": {
    "name": "ipython",
    "version": 3
   },
   "file_extension": ".py",
   "mimetype": "text/x-python",
   "name": "python",
   "nbconvert_exporter": "python",
   "pygments_lexer": "ipython3",
   "version": "3.6.7"
  }
 },
 "nbformat": 4,
 "nbformat_minor": 2
}
