{
 "cells": [
  {
   "cell_type": "code",
   "execution_count": 1,
   "metadata": {},
   "outputs": [
    {
     "name": "stderr",
     "output_type": "stream",
     "text": [
      "/Users/qin/anaconda3/lib/python3.6/site-packages/h5py/__init__.py:36: FutureWarning: Conversion of the second argument of issubdtype from `float` to `np.floating` is deprecated. In future, it will be treated as `np.float64 == np.dtype(float).type`.\n",
      "  from ._conv import register_converters as _register_converters\n"
     ]
    }
   ],
   "source": [
    "from tensorflow.keras.preprocessing import sequence\n",
    "from tensorflow.keras.models import Sequential\n",
    "from tensorflow.keras.layers import Dense,Dropout\n",
    "from tensorflow.keras.layers import Embedding\n",
    "from tensorflow.keras.layers import Conv1D,GlobalMaxPooling1D\n",
    "from tensorflow.keras.datasets import imdb\n",
    "from plot_model import plot_model"
   ]
  },
  {
   "cell_type": "code",
   "execution_count": 2,
   "metadata": {},
   "outputs": [],
   "source": [
    "# 最大词汇数量\n",
    "max_words = 10000\n",
    "# 最长句子设置为400\n",
    "# 这里句子长度值的是句子词汇数量，句子有100个词则长度为100\n",
    "maxlen = 400\n",
    "# 批次大小\n",
    "batch_size = 32\n",
    "# 词向量长度\n",
    "embedding_dims = 128\n",
    "# 训练周期\n",
    "epochs = 3\n",
    "# 滤波器数量\n",
    "filters = 64\n",
    "# 卷积核大小\n",
    "kernel_size = 3"
   ]
  },
  {
   "cell_type": "code",
   "execution_count": 3,
   "metadata": {},
   "outputs": [],
   "source": [
    "# 载入imdb评论数据集，设置最大词汇数，只保留出现频率最高的前max_words个词\n",
    "# 出现频率越高，编号越小。词的编号从4开始，也就是频率最大的词编号为4。\n",
    "# 编号0表示padding，1表示句子的开始(每个句子第一个编号都是1)，2表示OOV，3表示预留(所有的数据中都没有3)\n",
    "# Out-of-vocabulary,简称OOV,表示不在字典中的词\n",
    "# 数据的标签为0和1。0表示负面情感，1表示正面情感。\n",
    "(x_train, y_train), (x_test, y_test) = imdb.load_data(num_words=max_words)"
   ]
  },
  {
   "cell_type": "code",
   "execution_count": 4,
   "metadata": {},
   "outputs": [
    {
     "name": "stdout",
     "output_type": "stream",
     "text": [
      "[1, 591, 202, 14, 31, 6, 717, 10, 10, 2, 2, 5, 4, 360, 7, 4, 177, 5760, 394, 354, 4, 123, 9, 1035, 1035, 1035, 10, 10, 13, 92, 124, 89, 488, 7944, 100, 28, 1668, 14, 31, 23, 27, 7479, 29, 220, 468, 8, 124, 14, 286, 170, 8, 157, 46, 5, 27, 239, 16, 179, 2, 38, 32, 25, 7944, 451, 202, 14, 6, 717]\n"
     ]
    }
   ],
   "source": [
    "# 查看测试集第0个句子\n",
    "print(x_test[0])"
   ]
  },
  {
   "cell_type": "code",
   "execution_count": 5,
   "metadata": {},
   "outputs": [],
   "source": [
    "# 获得imdb数据集的字典，字典的键是英语词汇，值是编号\n",
    "# 注意这个字典的编词汇编号跟数据集中的词汇编号是不对应的\n",
    "# 数据集中的编号减三才能得到这个字典的编号，举个例子：\n",
    "# 比如在x_train中'a'的编号为6，在word2id中'a'的编号为3\n",
    "word2id = imdb.get_word_index()\n",
    "\n",
    "# 把字典的键值对反过来：键是编号，值是英语词汇\n",
    "# 编号数值范围：0-88587\n",
    "# value+3把字典中词汇的编号跟x_train和x_test数据中的编号对应起来\n",
    "id2word = dict([(value+3, key) for (key, value) in word2id.items()])\n",
    "# 设置预留字符\n",
    "id2word[3] = '[RESERVE]'\n",
    "# 设置Out-of-vocabulary字符\n",
    "id2word[2] = '[OOV]'\n",
    "# 设置起始字符\n",
    "id2word[1] = '[START]'\n",
    "# 设置填充字符\n",
    "id2word[0] = '[PAD]'"
   ]
  },
  {
   "cell_type": "code",
   "execution_count": 6,
   "metadata": {},
   "outputs": [
    {
     "name": "stdout",
     "output_type": "stream",
     "text": [
      "[START] please give this one a miss br br [OOV] [OOV] and the rest of the cast rendered terrible performances the show is flat flat flat br br i don't know how michael madison could have allowed this one on his plate he almost seemed to know this wasn't going to work out and his performance was quite [OOV] so all you madison fans give this a miss\n"
     ]
    }
   ],
   "source": [
    "# 在词典中查询得到原始英语句子，如果编号不在字典用则用'?'替代\n",
    "decoded_review = ' '.join([id2word.get(i, '?') for i in x_test[0]])\n",
    "print(decoded_review)"
   ]
  },
  {
   "cell_type": "code",
   "execution_count": 11,
   "metadata": {},
   "outputs": [
    {
     "name": "stdout",
     "output_type": "stream",
     "text": [
      "x_train shape: (25000, 400)\n",
      "x_test shape: (25000, 400)\n",
      "[   0    0    0    0    0    0    0    0    0    0    0    0    0    0\n",
      "    0    0    0    0    0    0    0    0    0    0    0    0    0    0\n",
      "    0    0    0    0    0    0    0    0    0    0    0    0    0    0\n",
      "    0    0    0    0    0    0    0    0    0    0    0    0    0    0\n",
      "    0    0    0    0    0    0    0    0    0    0    0    0    0    0\n",
      "    0    0    0    0    0    0    0    0    0    0    0    0    0    0\n",
      "    0    0    0    0    0    0    0    0    0    0    0    0    0    0\n",
      "    0    0    0    0    0    0    0    0    0    0    0    0    0    0\n",
      "    0    0    0    0    0    0    0    0    0    0    0    0    0    0\n",
      "    0    0    0    0    0    0    0    0    0    0    0    0    0    0\n",
      "    0    0    0    0    0    0    0    0    0    0    0    0    0    0\n",
      "    0    0    0    0    0    0    0    0    0    0    0    0    0    0\n",
      "    0    0    0    0    0    0    0    0    0    0    0    0    0    0\n",
      "    0    0    0    0    0    0    0    0    0    0    0    0    0    0\n",
      "    0    0    0    0    0    0    0    0    0    0    0    0    0    0\n",
      "    0    0    0    0    0    0    0    0    0    0    0    0    0    0\n",
      "    0    0    0    0    0    0    0    0    0    0    0    0    0    0\n",
      "    0    0    0    0    0    0    0    0    0    0    0    0    0    0\n",
      "    0    0    0    0    0    0    0    0    0    0    0    0    0    0\n",
      "    0    0    0    0    0    0    0    0    0    0    0    0    0    0\n",
      "    0    0    0    0    0    0    0    0    0    0    0    0    0    0\n",
      "    0    0    0    0    0    0    0    0    0    0    0    0    0    0\n",
      "    0    0    0    0    0    0    0    0    0    0    0    0    0    0\n",
      "    0    0    0    0    0    0    0    0    0    0    1  591  202   14\n",
      "   31    6  717   10   10    2    2    5    4  360    7    4  177 5760\n",
      "  394  354    4  123    9 1035 1035 1035   10   10   13   92  124   89\n",
      "  488 7944  100   28 1668   14   31   23   27 7479   29  220  468    8\n",
      "  124   14  286  170    8  157   46    5   27  239   16  179    2   38\n",
      "   32   25 7944  451  202   14    6  717]\n"
     ]
    }
   ],
   "source": [
    "# 序列填充，因为模型结构是固定的而句子的长度是不固定的，所以我们需要把句子变成相同的长度\n",
    "# 如果句子长度不足maxlen，则把句子填充到maxlen的长度，如果句子长度超过maxlen，则取句子前maxlen个词\n",
    "x_train = sequence.pad_sequences(x_train, maxlen=maxlen)\n",
    "x_test = sequence.pad_sequences(x_test, maxlen=maxlen)\n",
    "# 填充后所有句子都变成了400的长度\n",
    "print('x_train shape:', x_train.shape)\n",
    "print('x_test shape:', x_test.shape)\n",
    "print(x_test[0])"
   ]
  },
  {
   "cell_type": "code",
   "execution_count": 8,
   "metadata": {},
   "outputs": [
    {
     "data": {
      "image/png": "[encoded data removed]",
      "text/plain": [
       "<IPython.core.display.Image object>"
      ]
     },
     "execution_count": 8,
     "metadata": {},
     "output_type": "execute_result"
    }
   ],
   "source": [
    "# 构建模型\n",
    "model = Sequential()\n",
    "\n",
    "# Embedding是一个权值矩阵，包含所有词汇的词向量，Embedding的行数等于词汇数，列数等于词向量长度\n",
    "# Embedding的作用是获得每个词对应的词向量，这里的词向量是没有经过预训练的随机值，会跟随模型一起训练\n",
    "# max_words词汇数，embedding_dims词向量长度\n",
    "# 模型训练时数据输入为(batch, maxlen)\n",
    "model.add(Embedding(max_words,\n",
    "                    embedding_dims))\n",
    "\n",
    "# 设置一个一维卷积\n",
    "model.add(Conv1D(filters,\n",
    "                 kernel_size,\n",
    "                 strides=1,\n",
    "                 padding='same',\n",
    "                 activation='relu'))\n",
    "\n",
    "# 卷积计算后得到的数据为(batch, maxlen, filters)\n",
    "# GlobalMaxPooling1D-全局最大池化计算每一张特征图的最大值\n",
    "# 池化后得到(batch, filters)\n",
    "model.add(GlobalMaxPooling1D())\n",
    "# 加上Dropout\n",
    "model.add(Dropout(0.5))\n",
    "# 最后2分类，设置2个神经元\n",
    "model.add(Dense(2,activation='softmax'))\n",
    "# 画图\n",
    "plot_model(model)"
   ]
  },
  {
   "cell_type": "code",
   "execution_count": 9,
   "metadata": {},
   "outputs": [
    {
     "name": "stdout",
     "output_type": "stream",
     "text": [
      "Train on 25000 samples, validate on 25000 samples\n",
      "Epoch 1/3\n",
      "25000/25000 [==============================] - 31s 1ms/sample - loss: 0.4680 - accuracy: 0.7660 - val_loss: 0.3246 - val_accuracy: 0.8635\n",
      "Epoch 2/3\n",
      "25000/25000 [==============================] - 31s 1ms/sample - loss: 0.2997 - accuracy: 0.8777 - val_loss: 0.2927 - val_accuracy: 0.8766\n",
      "Epoch 3/3\n",
      "25000/25000 [==============================] - 31s 1ms/sample - loss: 0.2161 - accuracy: 0.9168 - val_loss: 0.2991 - val_accuracy: 0.8772\n"
     ]
    },
    {
     "data": {
      "text/plain": [
       "<tensorflow.python.keras.callbacks.History at 0x15cc8bd68>"
      ]
     },
     "execution_count": 9,
     "metadata": {},
     "output_type": "execute_result"
    }
   ],
   "source": [
    "# sparse_categorical_crossentropy和categorical_crossentropy都是交叉熵代价函数\n",
    "# categorical_crossentropy需要把标签变成独热编码one-hot\n",
    "# sparse_categorical_crossentropy不需要把标签变成独热编码one-hot(不是真的不需要，而且程序中会自动帮你做转换)\n",
    "# 所以这个程序中的标签没有转独热编码one-hot\n",
    "model.compile(loss='sparse_categorical_crossentropy',\n",
    "              optimizer='adam',\n",
    "              metrics=['accuracy'])\n",
    "\n",
    "# 训练模型\n",
    "model.fit(x_train, y_train,\n",
    "          batch_size=batch_size,\n",
    "          epochs=epochs,\n",
    "          validation_data=(x_test, y_test))"
   ]
  },
  {
   "cell_type": "code",
   "execution_count": null,
   "metadata": {},
   "outputs": [],
   "source": []
  },
  {
   "cell_type": "code",
   "execution_count": null,
   "metadata": {},
   "outputs": [],
   "source": []
  },
  {
   "cell_type": "code",
   "execution_count": null,
   "metadata": {},
   "outputs": [],
   "source": []
  },
  {
   "cell_type": "code",
   "execution_count": 10,
   "metadata": {},
   "outputs": [],
   "source": []
  }
 ],
 "metadata": {
  "kernelspec": {
   "display_name": "Python 3",
   "language": "python",
   "name": "python3"
  },
  "language_info": {
   "codemirror_mode": {
    "name": "ipython",
    "version": 3
   },
   "file_extension": ".py",
   "mimetype": "text/x-python",
   "name": "python",
   "nbconvert_exporter": "python",
   "pygments_lexer": "ipython3",
   "version": "3.6.7"
  }
 },
 "nbformat": 4,
 "nbformat_minor": 2
}
