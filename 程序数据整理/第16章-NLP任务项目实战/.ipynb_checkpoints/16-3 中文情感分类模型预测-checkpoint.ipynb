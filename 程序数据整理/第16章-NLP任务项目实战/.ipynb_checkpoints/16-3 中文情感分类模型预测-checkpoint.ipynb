{
 "cells": [
  {
   "cell_type": "code",
   "execution_count": 1,
   "metadata": {},
   "outputs": [
    {
     "name": "stderr",
     "output_type": "stream",
     "text": [
      "/Users/qin/anaconda3/lib/python3.6/site-packages/h5py/__init__.py:36: FutureWarning: Conversion of the second argument of issubdtype from `float` to `np.floating` is deprecated. In future, it will be treated as `np.float64 == np.dtype(float).type`.\n",
      "  from ._conv import register_converters as _register_converters\n"
     ]
    }
   ],
   "source": [
    "from tensorflow.keras.models import load_model\n",
    "from tensorflow.keras.preprocessing.sequence import pad_sequences\n",
    "from tensorflow.keras.preprocessing.text import tokenizer_from_json\n",
    "import jieba\n",
    "import numpy as np"
   ]
  },
  {
   "cell_type": "code",
   "execution_count": 2,
   "metadata": {},
   "outputs": [],
   "source": [
    "# 载入tokenizer\n",
    "json_file = open('token_config.json','r',encoding='utf-8')\n",
    "token_config = json.load(json_file)\n",
    "tokenizer = tokenizer_from_json(token_config)"
   ]
  },
  {
   "cell_type": "code",
   "execution_count": 3,
   "metadata": {},
   "outputs": [],
   "source": [
    "# 载入模型\n",
    "model = load_model('cnn_model.h5')"
   ]
  },
  {
   "cell_type": "code",
   "execution_count": 4,
   "metadata": {},
   "outputs": [],
   "source": [
    "# 情感预测\n",
    "def predict(text):\n",
    "    # 对句子分词\n",
    "    cw = list(jieba.cut(text)) \n",
    "    # list转字符串，元素之间用' '隔开\n",
    "    texts = ' '.join(cw)\n",
    "    # 把词转换为编号，编号大于30000的词会被过滤掉\n",
    "    sequences = tokenizer.texts_to_sequences([texts]) \n",
    "    # model.input_shape为(None, 202)，202为训练模型时的序列长度\n",
    "    # 把序列设定为202的长度，超过202的部分舍弃，不到202则补0\n",
    "    sequences = pad_sequences(sequences, maxlen=model.input_shape[1], padding='pre')\n",
    "    # 模型预测\n",
    "    result = np.argmax(model.predict(sequences))\n",
    "    if(result==1):\n",
    "        print(\"正面情绪\")\n",
    "    else:\n",
    "        print(\"负面情绪\")"
   ]
  },
  {
   "cell_type": "code",
   "execution_count": 5,
   "metadata": {},
   "outputs": [
    {
     "name": "stderr",
     "output_type": "stream",
     "text": [
      "Building prefix dict from the default dictionary ...\n",
      "WARNING: Logging before flag parsing goes to stderr.\n",
      "I0423 13:17:43.711803 4575010240 __init__.py:111] Building prefix dict from the default dictionary ...\n",
      "Loading model from cache /var/folders/z_/4gjsg5b96nj318f19nqn401w0000gn/T/jieba.cache\n",
      "I0423 13:17:43.713541 4575010240 __init__.py:131] Loading model from cache /var/folders/z_/4gjsg5b96nj318f19nqn401w0000gn/T/jieba.cache\n",
      "Loading model cost 0.540 seconds.\n",
      "I0423 13:17:44.253215 4575010240 __init__.py:163] Loading model cost 0.540 seconds.\n",
      "Prefix dict has been built succesfully.\n",
      "I0423 13:17:44.254490 4575010240 __init__.py:164] Prefix dict has been built succesfully.\n"
     ]
    },
    {
     "name": "stdout",
     "output_type": "stream",
     "text": [
      "正面情绪\n"
     ]
    }
   ],
   "source": [
    "predict(\"今天阳光明媚，手痒想打球了。\")"
   ]
  },
  {
   "cell_type": "code",
   "execution_count": 6,
   "metadata": {},
   "outputs": [
    {
     "name": "stdout",
     "output_type": "stream",
     "text": [
      "负面情绪\n"
     ]
    }
   ],
   "source": [
    "predict(\"一大屋子人，结果清早告停水了，我崩溃到现在[抓狂]\")"
   ]
  },
  {
   "cell_type": "code",
   "execution_count": null,
   "metadata": {},
   "outputs": [],
   "source": []
  }
 ],
 "metadata": {
  "kernelspec": {
   "display_name": "Python 3",
   "language": "python",
   "name": "python3"
  },
  "language_info": {
   "codemirror_mode": {
    "name": "ipython",
    "version": 3
   },
   "file_extension": ".py",
   "mimetype": "text/x-python",
   "name": "python",
   "nbconvert_exporter": "python",
   "pygments_lexer": "ipython3",
   "version": "3.6.7"
  }
 },
 "nbformat": 4,
 "nbformat_minor": 2
}
