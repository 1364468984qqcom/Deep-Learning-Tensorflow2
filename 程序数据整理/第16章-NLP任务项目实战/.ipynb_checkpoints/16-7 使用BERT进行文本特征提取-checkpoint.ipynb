{
 "cells": [
  {
   "cell_type": "code",
   "execution_count": 1,
   "metadata": {},
   "outputs": [
    {
     "name": "stderr",
     "output_type": "stream",
     "text": [
      "/Users/qin/anaconda3/lib/python3.6/site-packages/h5py/__init__.py:36: FutureWarning: Conversion of the second argument of issubdtype from `float` to `np.floating` is deprecated. In future, it will be treated as `np.float64 == np.dtype(float).type`.\n",
      "  from ._conv import register_converters as _register_converters\n"
     ]
    }
   ],
   "source": [
    "from tf2_bert.models import build_transformer_model\n",
    "from tf2_bert.tokenizers import Tokenizer\n",
    "import numpy as np"
   ]
  },
  {
   "cell_type": "code",
   "execution_count": 2,
   "metadata": {},
   "outputs": [],
   "source": [
    "# 定义预训练模型路径\n",
    "model_dir = './chinese_roberta_wwm_ext_L-12_H-768_A-12'\n",
    "# BERT参数\n",
    "config_path = model_dir+'/bert_config.json'\n",
    "# 保存模型权值参数的文件\n",
    "checkpoint_path = model_dir+'/bert_model.ckpt'\n",
    "# 词表\n",
    "dict_path = model_dir+'/vocab.txt'\n",
    "# 建立分词器\n",
    "tokenizer = Tokenizer(dict_path) \n",
    "# 建立模型，加载权重\n",
    "model = build_transformer_model(config_path, checkpoint_path) "
   ]
  },
  {
   "cell_type": "code",
   "execution_count": 3,
   "metadata": {},
   "outputs": [
    {
     "name": "stdout",
     "output_type": "stream",
     "text": [
      "['[CLS]', '机', '器', '学', '习', '[SEP]']\n"
     ]
    }
   ],
   "source": [
    "# 句子0\n",
    "sentence0 = '机器学习'\n",
    "# 句子1\n",
    "sentence1 = '深度学习'\n",
    "# 用分词器对句子分词\n",
    "tokens = tokenizer.tokenize(sentence0)\n",
    "# 分词后自动在句子前加上[CLS]，在句子后加上[SEP]\n",
    "print(tokens)"
   ]
  },
  {
   "cell_type": "code",
   "execution_count": 4,
   "metadata": {},
   "outputs": [
    {
     "name": "stdout",
     "output_type": "stream",
     "text": [
      "token_ids: [101, 3322, 1690, 2110, 739, 102]\n",
      "segment_ids: [0, 0, 0, 0, 0, 0]\n"
     ]
    }
   ],
   "source": [
    "# 编码测试\n",
    "token_ids, segment_ids = tokenizer.encode(sentence0)\n",
    "# [CLS]的编号为101，机为3322，器为1690，学为2110，习为739，[SEP]为102\n",
    "print('token_ids:',token_ids)\n",
    "# 因为只有一个句子所以segment_ids都是0\n",
    "print('segment_ids:',segment_ids)"
   ]
  },
  {
   "cell_type": "code",
   "execution_count": 5,
   "metadata": {},
   "outputs": [
    {
     "name": "stdout",
     "output_type": "stream",
     "text": [
      "token_ids: [101, 3322, 1690, 2110, 739, 102, 3918, 2428, 2110, 739, 102]\n",
      "segment_ids: [0, 0, 0, 0, 0, 0, 1, 1, 1, 1, 1]\n"
     ]
    }
   ],
   "source": [
    "# 编码测试\n",
    "token_ids, segment_ids = tokenizer.encode(sentence0,sentence1)\n",
    "# 可以看到两个句子分词后的结果为：\n",
    "# ['[CLS]', '机', '器', '学', '习', '[SEP]', '深', '度', '学', '习', [SEP]]\n",
    "print('token_ids:',token_ids)\n",
    "# 0表示第一个句子的token，1表示第二个句子的token\n",
    "print('segment_ids:',segment_ids)"
   ]
  },
  {
   "cell_type": "code",
   "execution_count": 6,
   "metadata": {},
   "outputs": [],
   "source": [
    "# 增加一个维度表示批次大小为1\n",
    "token_ids = np.expand_dims(token_ids,axis=0)\n",
    "# 增加一个维度表示批次大小为1\n",
    "segment_ids = np.expand_dims(segment_ids,axis=0)"
   ]
  },
  {
   "cell_type": "code",
   "execution_count": 7,
   "metadata": {
    "scrolled": true
   },
   "outputs": [
    {
     "name": "stdout",
     "output_type": "stream",
     "text": [
      "(1, 11, 768)\n"
     ]
    }
   ],
   "source": [
    "# 传入模型进行预测\n",
    "pre = model.predict([token_ids, segment_ids])\n",
    "# 得到的结果中1表示批次大小，11表示11个token，768表示特征向量长度\n",
    "# 这里就是把句子的token转化为了特征向量\n",
    "print(pre.shape)"
   ]
  },
  {
   "cell_type": "code",
   "execution_count": null,
   "metadata": {},
   "outputs": [],
   "source": []
  }
 ],
 "metadata": {
  "kernelspec": {
   "display_name": "Python 3",
   "language": "python",
   "name": "python3"
  },
  "language_info": {
   "codemirror_mode": {
    "name": "ipython",
    "version": 3
   },
   "file_extension": ".py",
   "mimetype": "text/x-python",
   "name": "python",
   "nbconvert_exporter": "python",
   "pygments_lexer": "ipython3",
   "version": "3.6.7"
  }
 },
 "nbformat": 4,
 "nbformat_minor": 2
}
