{
 "cells": [
  {
   "cell_type": "code",
   "execution_count": 1,
   "metadata": {},
   "outputs": [
    {
     "name": "stderr",
     "output_type": "stream",
     "text": [
      "/Users/qin/anaconda3/lib/python3.6/site-packages/h5py/__init__.py:36: FutureWarning: Conversion of the second argument of issubdtype from `float` to `np.floating` is deprecated. In future, it will be treated as `np.float64 == np.dtype(float).type`.\n",
      "  from ._conv import register_converters as _register_converters\n"
     ]
    }
   ],
   "source": [
    "from tf2_bert.models import build_transformer_model\n",
    "from tf2_bert.tokenizers import Tokenizer\n",
    "from tensorflow.keras.models import load_model\n",
    "import numpy as np"
   ]
  },
  {
   "cell_type": "code",
   "execution_count": 2,
   "metadata": {},
   "outputs": [],
   "source": [
    "# 载入模型\n",
    "model = load_model('bert_model.h5')\n",
    "# 词表路径\n",
    "dict_path = './chinese_roberta_wwm_ext_L-12_H-768_A-12'+'/vocab.txt'\n",
    "# 建立分词器\n",
    "tokenizer = Tokenizer(dict_path) "
   ]
  },
  {
   "cell_type": "code",
   "execution_count": 3,
   "metadata": {},
   "outputs": [],
   "source": [
    "# 预测函数\n",
    "def predict(text):\n",
    "    # 分词并把token变成编号，句子长度需要与模型训练时一致\n",
    "    token_ids, segment_ids = tokenizer.encode(text, first_length=256)\n",
    "    # 增加一个维度表示批次大小为1\n",
    "    token_ids = np.expand_dims(token_ids,axis=0)\n",
    "    # 增加一个维度表示批次大小为1\n",
    "    segment_ids = np.expand_dims(segment_ids,axis=0)\n",
    "    # 模型预测\n",
    "    pre = model.predict([token_ids, segment_ids])\n",
    "    # 去掉一个没用的维度\n",
    "    pre = np.array(pre).reshape((7,3))\n",
    "    # 获得可能性最大的预测结果\n",
    "    pre = np.argmax(pre,axis=1)\n",
    "    \n",
    "    comment = ''\n",
    "    if(pre[0]==0):\n",
    "        comment += '性价比差,'\n",
    "    elif(pre[0]==1):\n",
    "        comment += '-,'\n",
    "    elif(pre[0]==2):\n",
    "        comment += '性价比好,'\n",
    "\n",
    "    if(pre[1]==0):\n",
    "        comment += '质量差,'\n",
    "    elif(pre[1]==1):\n",
    "        comment += '-,'\n",
    "    elif(pre[1]==2):\n",
    "        comment += '质量好,'\n",
    "\n",
    "    if(pre[2]==0):\n",
    "        comment += '希望有活动,'\n",
    "    elif(pre[2]==1):\n",
    "        comment += '-,'\n",
    "    elif(pre[2]==2):\n",
    "        comment += '参加了活动,'\n",
    "\n",
    "    if(pre[3]==0):\n",
    "        comment += '客服物流包装差,'\n",
    "    elif(pre[3]==1):\n",
    "        comment += '-,'\n",
    "    elif(pre[3]==2):\n",
    "        comment += '客服物流包装好,'\n",
    "\n",
    "    if(pre[4]==0):\n",
    "        comment += '新用户,'\n",
    "    elif(pre[4]==1):\n",
    "        comment += '-,'\n",
    "    elif(pre[4]==2):\n",
    "        comment += '老用户,'\n",
    "\n",
    "    if(pre[5]==0):\n",
    "        comment += '不会再买,'\n",
    "    elif(pre[5]==1):\n",
    "        comment += '-,'\n",
    "    elif(pre[5]==2):\n",
    "        comment += '会继续购买,'\n",
    "\n",
    "    if(pre[6]==0):\n",
    "        comment += '差评'\n",
    "    elif(pre[6]==1):\n",
    "        comment += '中评'\n",
    "    elif(pre[6]==2):\n",
    "        comment += '好评'\n",
    "        \n",
    "    return pre,comment"
   ]
  },
  {
   "cell_type": "code",
   "execution_count": 4,
   "metadata": {},
   "outputs": [
    {
     "name": "stdout",
     "output_type": "stream",
     "text": [
      "pre: [1 1 1 1 1 1 1]\n",
      "comment: -,-,-,-,-,-,中评\n"
     ]
    }
   ],
   "source": [
    "pre,comment = predict(\"还没用，不知道怎么样\")\n",
    "print('pre:',pre)\n",
    "print('comment:',comment)"
   ]
  },
  {
   "cell_type": "code",
   "execution_count": 5,
   "metadata": {},
   "outputs": [
    {
     "name": "stdout",
     "output_type": "stream",
     "text": [
      "pre: [2 2 1 1 1 2 2]\n",
      "comment: 性价比好,质量好,-,-,-,会继续购买,好评\n"
     ]
    }
   ],
   "source": [
    "pre,comment = predict(\"质量不错，还会再来，价格优惠\")\n",
    "print('pre:',pre)\n",
    "print('comment:',comment)"
   ]
  },
  {
   "cell_type": "code",
   "execution_count": 6,
   "metadata": {},
   "outputs": [
    {
     "name": "stdout",
     "output_type": "stream",
     "text": [
      "pre: [2 2 1 1 1 1 2]\n",
      "comment: 性价比好,质量好,-,-,-,-,好评\n"
     ]
    }
   ],
   "source": [
    "pre,comment = predict(\"好用不贵物美价廉，用后皮肤水水的非常不错\")\n",
    "print('pre:',pre)\n",
    "print('comment:',comment)"
   ]
  },
  {
   "cell_type": "code",
   "execution_count": 7,
   "metadata": {},
   "outputs": [
    {
     "name": "stdout",
     "output_type": "stream",
     "text": [
      "pre: [2 2 1 1 2 2 2]\n",
      "comment: 性价比好,质量好,-,-,老用户,会继续购买,好评\n"
     ]
    }
   ],
   "source": [
    "pre,comment = predict('一直都用这款产品，便宜又补水，特别好用，今后要一直屯下去。')\n",
    "print('pre:',pre)\n",
    "print('comment:',comment)"
   ]
  },
  {
   "cell_type": "code",
   "execution_count": 8,
   "metadata": {},
   "outputs": [
    {
     "name": "stdout",
     "output_type": "stream",
     "text": [
      "pre: [2 2 2 1 1 1 2]\n",
      "comment: 性价比好,质量好,参加了活动,-,-,-,好评\n"
     ]
    }
   ],
   "source": [
    "pre,comment = predict('趁着搞活动又囤了几盒，很划算，天天用也不心疼，补水效果还可以的')\n",
    "print('pre:',pre)\n",
    "print('comment:',comment)"
   ]
  },
  {
   "cell_type": "code",
   "execution_count": 9,
   "metadata": {},
   "outputs": [
    {
     "name": "stdout",
     "output_type": "stream",
     "text": [
      "pre: [1 1 1 0 1 1 0]\n",
      "comment: -,-,-,客服物流包装差,-,-,差评\n"
     ]
    }
   ],
   "source": [
    "pre,comment = predict('我周六买的，星期一才发货，问客服没有回复，不过速度还是快，星期二收到的。发货速度有待改进。')\n",
    "print('pre:',pre)\n",
    "print('comment:',comment)"
   ]
  },
  {
   "cell_type": "code",
   "execution_count": 10,
   "metadata": {},
   "outputs": [
    {
     "name": "stdout",
     "output_type": "stream",
     "text": [
      "pre: [1 0 1 0 1 1 0]\n",
      "comment: -,质量差,-,客服物流包装差,-,-,差评\n"
     ]
    }
   ],
   "source": [
    "pre,comment = predict('人生中第一次差评，差评一是给这个产品，用了过敏；二是给这个客服，说过敏仅支持退货并且运费自理。我的天！那我就不退了吧。只能说自己倒霉咯，过敏了没人管，退货还得自掏腰包，最惨不过我')\n",
    "print('pre:',pre)\n",
    "print('comment:',comment)"
   ]
  },
  {
   "cell_type": "code",
   "execution_count": 11,
   "metadata": {},
   "outputs": [
    {
     "name": "stdout",
     "output_type": "stream",
     "text": [
      "pre: [2 2 2 2 2 2 2]\n",
      "comment: 性价比好,质量好,参加了活动,客服物流包装好,老用户,会继续购买,好评\n"
     ]
    }
   ],
   "source": [
    "pre,comment = predict('自从朋友推荐就一直使用这款面膜，哈哈哈哈，这款面膜一件用了很久了，每次活动买，比较实惠划算，比较适合我自己。唯一感觉不足的就是乳液太少。发货也特别快，值得购买。会在买的。')\n",
    "print('pre:',pre)\n",
    "print('comment:',comment)"
   ]
  },
  {
   "cell_type": "code",
   "execution_count": null,
   "metadata": {},
   "outputs": [],
   "source": []
  }
 ],
 "metadata": {
  "kernelspec": {
   "display_name": "Python 3",
   "language": "python",
   "name": "python3"
  },
  "language_info": {
   "codemirror_mode": {
    "name": "ipython",
    "version": 3
   },
   "file_extension": ".py",
   "mimetype": "text/x-python",
   "name": "python",
   "nbconvert_exporter": "python",
   "pygments_lexer": "ipython3",
   "version": "3.6.7"
  }
 },
 "nbformat": 4,
 "nbformat_minor": 2
}
