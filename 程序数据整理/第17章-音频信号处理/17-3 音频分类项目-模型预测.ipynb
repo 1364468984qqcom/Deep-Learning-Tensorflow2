{
 "cells": [
  {
   "cell_type": "code",
   "execution_count": 1,
   "metadata": {},
   "outputs": [],
   "source": [
    "import warnings\n",
    "warnings.filterwarnings(\"ignore\")\n",
    "import librosa\n",
    "from tensorflow.keras.models import load_model\n",
    "import glob\n",
    "import os\n",
    "from tqdm import tqdm\n",
    "import numpy as np\n",
    "import sklearn"
   ]
  },
  {
   "cell_type": "code",
   "execution_count": 2,
   "metadata": {},
   "outputs": [],
   "source": [
    "# 测试文件存放路径\n",
    "audio_dir = 'audio_test/'\n",
    "# 载入模型\n",
    "model = load_model('audio_model/cnn_0.8943.h5')"
   ]
  },
  {
   "cell_type": "code",
   "execution_count": 3,
   "metadata": {},
   "outputs": [],
   "source": [
    "# 获取文件mfcc特征和对应标签\n",
    "def extract_features(audio_files):\n",
    "    # 用于保存mfcc特征\n",
    "    audio_features = []\n",
    "    # 用于保存标签\n",
    "    audio_labels = []\n",
    "    # 由于特征提取需要时间比较长，可以加上tqdm实时查看进度\n",
    "    for audio in tqdm(audio_files):\n",
    "        # 读入音频文件\n",
    "        # 由于音频文件原始采样率高低不一，这里我们把采样率固定为22050\n",
    "        signal,sample_rate = librosa.load(audio,sr=22050)\n",
    "        # 由于音频长度长短不一，基本上都在4秒左右，所以我们把所有音频数据的长度都固定为4秒\n",
    "        # 采样率22050，时长为4秒，所以信号数量为22050*4=88200\n",
    "        # 小于88200填充\n",
    "        if len(signal)<88200:\n",
    "            # 给signal信号前面填充0个数据，后面填充88200-len(signal)个数据，填充值为0\n",
    "            signal = np.pad(signal,(0,88200-len(signal)),'constant',constant_values=(0))\n",
    "        # 大于88200，只取前面88200个数据\n",
    "        else:\n",
    "            signal = signal[:88200]\n",
    "        # 获取音频mfcc特征，然后对数据进行转置\n",
    "        # 原始mfcc数据shape为(mfcc特征数，帧数)->(帧数，mfcc特征数)\n",
    "        # 相当于把序列长度的维度放前面，特征数的维度放后面\n",
    "        mfcc = np.transpose(librosa.feature.mfcc(y=signal, sr=sample_rate, n_mfcc=40), [1,0])\n",
    "        # 数据标准化\n",
    "        mfcc = sklearn.preprocessing.scale(mfcc, axis=0)\n",
    "        # 保存mfcc特征\n",
    "        audio_features.append(mfcc.tolist()) \n",
    "        # 获取label\n",
    "        # 获取文件名第2个数字，第2个数字为标签\n",
    "        label = audio.split('/')[-1].split('-')[1]\n",
    "        # 保存标签\n",
    "        audio_labels.append(int(label)) \n",
    "    return np.array(audio_features), np.array(audio_labels)"
   ]
  },
  {
   "cell_type": "code",
   "execution_count": 4,
   "metadata": {},
   "outputs": [
    {
     "name": "stdout",
     "output_type": "stream",
     "text": [
      "文件数量： 10\n"
     ]
    }
   ],
   "source": [
    "# 获取所有wav文件\n",
    "audio_files = glob.glob(os.path.join(audio_dir, '*.wav'))\n",
    "print('文件数量：',len(audio_files))"
   ]
  },
  {
   "cell_type": "code",
   "execution_count": 5,
   "metadata": {},
   "outputs": [
    {
     "name": "stderr",
     "output_type": "stream",
     "text": [
      "100%|██████████████████████████████████████████████████████████████████████████████████| 10/10 [00:01<00:00,  6.72it/s]\n"
     ]
    }
   ],
   "source": [
    "# 获取文件mfcc特征和对应标签\n",
    "audio_features,audio_labels = extract_features(audio_files)"
   ]
  },
  {
   "cell_type": "code",
   "execution_count": 6,
   "metadata": {},
   "outputs": [
    {
     "name": "stdout",
     "output_type": "stream",
     "text": [
      "真实标签为： [3 0 5 1 8 7 9 5 2 1]\n",
      "预测结果为： [3 0 5 1 8 7 9 5 2 1]\n"
     ]
    }
   ],
   "source": [
    "# 把测试数据当作一个批次进行预测\n",
    "preds = model.predict_on_batch(audio_features)\n",
    "# 计算概率最大的类别\n",
    "preds = np.argmax(preds, axis=1)\n",
    "print('真实标签为：',audio_labels)\n",
    "print('预测结果为：',preds)"
   ]
  },
  {
   "cell_type": "code",
   "execution_count": null,
   "metadata": {},
   "outputs": [],
   "source": []
  }
 ],
 "metadata": {
  "kernelspec": {
   "display_name": "Python 3",
   "language": "python",
   "name": "python3"
  },
  "language_info": {
   "codemirror_mode": {
    "name": "ipython",
    "version": 3
   },
   "file_extension": ".py",
   "mimetype": "text/x-python",
   "name": "python",
   "nbconvert_exporter": "python",
   "pygments_lexer": "ipython3",
   "version": "3.6.7"
  }
 },
 "nbformat": 4,
 "nbformat_minor": 2
}
