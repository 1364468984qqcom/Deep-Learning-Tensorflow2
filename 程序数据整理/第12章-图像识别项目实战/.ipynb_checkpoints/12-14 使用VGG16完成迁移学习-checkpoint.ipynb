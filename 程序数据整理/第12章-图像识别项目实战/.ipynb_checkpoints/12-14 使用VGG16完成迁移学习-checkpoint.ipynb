{
 "cells": [
  {
   "cell_type": "code",
   "execution_count": 14,
   "metadata": {},
   "outputs": [],
   "source": [
    "from tensorflow.keras.applications.vgg16 import VGG16\n",
    "from tensorflow.keras.models import Sequential\n",
    "from tensorflow.keras.layers import Dropout,Flatten,Dense\n",
    "from tensorflow.keras.optimizers import SGD\n",
    "from tensorflow.keras.preprocessing.image import ImageDataGenerator,img_to_array,load_img\n",
    "import json\n",
    "import matplotlib.pyplot as plt\n",
    "import numpy as np"
   ]
  },
  {
   "cell_type": "code",
   "execution_count": 2,
   "metadata": {},
   "outputs": [],
   "source": [
    "# 类别数\n",
    "num_classes = 17\n",
    "# 批次大小\n",
    "batch_size = 32\n",
    "# 周期数\n",
    "epochs = 40\n",
    "# 图片大小\n",
    "image_size = 224"
   ]
  },
  {
   "cell_type": "code",
   "execution_count": 3,
   "metadata": {},
   "outputs": [],
   "source": [
    "# 训练集数据进行数据增强\n",
    "train_datagen = ImageDataGenerator(\n",
    "    rotation_range = 20,     # 随机旋转度数\n",
    "    width_shift_range = 0.1, # 随机水平平移\n",
    "    height_shift_range = 0.1,# 随机竖直平移\n",
    "    rescale = 1/255,         # 数据归一化\n",
    "    shear_range = 10,       # 随机错切变换\n",
    "    zoom_range = 0.1,        # 随机放大\n",
    "    horizontal_flip = True,  # 水平翻转\n",
    "    brightness_range=(0.7, 1.3), # 亮度变化\n",
    "    fill_mode = 'nearest',   # 填充方式\n",
    ") \n",
    "# 测试集数据只需要归一化就可以\n",
    "test_datagen = ImageDataGenerator(\n",
    "    rescale = 1/255,         # 数据归一化\n",
    ") "
   ]
  },
  {
   "cell_type": "code",
   "execution_count": 4,
   "metadata": {},
   "outputs": [
    {
     "name": "stdout",
     "output_type": "stream",
     "text": [
      "Found 1088 images belonging to 17 classes.\n",
      "Found 272 images belonging to 17 classes.\n"
     ]
    }
   ],
   "source": [
    "# 训练集数据生成器，可以在训练时自动产生数据进行训练\n",
    "# 从'data/train'获得训练集数据\n",
    "# 获得数据后会把图片resize为image_size×image_size的大小\n",
    "# generator每次会产生batch_size个数据\n",
    "train_generator = train_datagen.flow_from_directory(\n",
    "    'data/train',\n",
    "    target_size=(image_size,image_size),\n",
    "    batch_size=batch_size,\n",
    "    )\n",
    "\n",
    "# 测试集数据生成器\n",
    "test_generator = test_datagen.flow_from_directory(\n",
    "    'data/test',\n",
    "    target_size=(image_size,image_size),\n",
    "    batch_size=batch_size,\n",
    "    )"
   ]
  },
  {
   "cell_type": "code",
   "execution_count": 5,
   "metadata": {},
   "outputs": [],
   "source": [
    "# 字典的键为17个文件夹的名字，值为对应的分类编号\n",
    "label = train_generator.class_indices\n",
    "# 把字典的键值对反过来\n",
    "# 分类编号为键，分类名称为值\n",
    "label = dict(zip(label.values(),label.keys()))\n",
    "# 保存到json文件中\n",
    "file = open('label_flower.json','w',encoding='utf-8')\n",
    "json.dump(label, file)"
   ]
  },
  {
   "cell_type": "code",
   "execution_count": 6,
   "metadata": {},
   "outputs": [],
   "source": [
    "# 载入使用imagenet训练好的预训练模型\n",
    "# include_top=True表示模型包含全连接层\n",
    "# include_top=False表示模型不包含全连接层\n",
    "vgg16 = VGG16(weights='imagenet',include_top=False, input_shape=(image_size,image_size,3))"
   ]
  },
  {
   "cell_type": "code",
   "execution_count": 7,
   "metadata": {},
   "outputs": [],
   "source": [
    "# 搭建全连接层，连接在VGG16模型后面\n",
    "# 我们主要是利用VGG16卷积网络已经训练好的特征提取能力来提取特征\n",
    "# 然后搭建新的全连接层来进行新图片类型的分类\n",
    "top_model = Sequential()\n",
    "top_model.add(Flatten(input_shape=vgg16.output_shape[1:]))\n",
    "top_model.add(Dense(256,activation='relu'))\n",
    "top_model.add(Dropout(0.5))\n",
    "top_model.add(Dense(num_classes,activation='softmax'))\n",
    "\n",
    "model = Sequential()\n",
    "model.add(vgg16)\n",
    "model.add(top_model)"
   ]
  },
  {
   "cell_type": "code",
   "execution_count": 8,
   "metadata": {},
   "outputs": [
    {
     "name": "stderr",
     "output_type": "stream",
     "text": [
      "WARNING: Logging before flag parsing goes to stderr.\n",
      "W0320 17:33:53.960256 16672 data_adapter.py:1091] sample_weight modes were coerced from\n",
      "  ...\n",
      "    to  \n",
      "  ['...']\n",
      "W0320 17:33:54.116810 16672 data_adapter.py:1091] sample_weight modes were coerced from\n",
      "  ...\n",
      "    to  \n",
      "  ['...']\n"
     ]
    },
    {
     "name": "stdout",
     "output_type": "stream",
     "text": [
      "Train for 34 steps, validate for 9 steps\n",
      "Epoch 1/40\n",
      "34/34 [==============================] - 15s 440ms/step - loss: 2.8396 - accuracy: 0.1131 - val_loss: 2.2644 - val_accuracy: 0.2904\n",
      "Epoch 2/40\n",
      "34/34 [==============================] - 14s 406ms/step - loss: 1.9765 - accuracy: 0.3713 - val_loss: 1.3263 - val_accuracy: 0.6029\n",
      "Epoch 3/40\n",
      "34/34 [==============================] - 14s 406ms/step - loss: 1.4046 - accuracy: 0.5671 - val_loss: 0.9596 - val_accuracy: 0.6838\n",
      "Epoch 4/40\n",
      "34/34 [==============================] - 14s 406ms/step - loss: 0.9382 - accuracy: 0.7096 - val_loss: 0.4878 - val_accuracy: 0.8566\n",
      "Epoch 5/40\n",
      "34/34 [==============================] - 14s 403ms/step - loss: 0.7819 - accuracy: 0.7739 - val_loss: 0.7629 - val_accuracy: 0.7794\n",
      "Epoch 6/40\n",
      "34/34 [==============================] - 14s 404ms/step - loss: 0.5544 - accuracy: 0.8373 - val_loss: 0.3264 - val_accuracy: 0.8713\n",
      "Epoch 7/40\n",
      "34/34 [==============================] - 14s 398ms/step - loss: 0.5287 - accuracy: 0.8318 - val_loss: 0.2735 - val_accuracy: 0.9228\n",
      "Epoch 8/40\n",
      "34/34 [==============================] - 14s 401ms/step - loss: 0.2794 - accuracy: 0.9164 - val_loss: 0.2374 - val_accuracy: 0.9118\n",
      "Epoch 9/40\n",
      "34/34 [==============================] - 14s 400ms/step - loss: 0.3206 - accuracy: 0.9173 - val_loss: 0.2100 - val_accuracy: 0.9412\n",
      "Epoch 10/40\n",
      "34/34 [==============================] - 14s 406ms/step - loss: 0.2428 - accuracy: 0.9283 - val_loss: 0.2143 - val_accuracy: 0.9265\n",
      "Epoch 11/40\n",
      "34/34 [==============================] - 14s 414ms/step - loss: 0.1994 - accuracy: 0.9393 - val_loss: 0.2306 - val_accuracy: 0.9338\n",
      "Epoch 12/40\n",
      "34/34 [==============================] - 14s 404ms/step - loss: 0.1365 - accuracy: 0.9577 - val_loss: 0.1716 - val_accuracy: 0.9449\n",
      "Epoch 13/40\n",
      "34/34 [==============================] - 14s 405ms/step - loss: 0.1223 - accuracy: 0.9605 - val_loss: 0.2776 - val_accuracy: 0.9154\n",
      "Epoch 14/40\n",
      "34/34 [==============================] - 14s 408ms/step - loss: 0.1294 - accuracy: 0.9586 - val_loss: 0.2273 - val_accuracy: 0.9375\n",
      "Epoch 15/40\n",
      "34/34 [==============================] - 14s 405ms/step - loss: 0.1279 - accuracy: 0.9605 - val_loss: 0.1622 - val_accuracy: 0.9449\n",
      "Epoch 16/40\n",
      "34/34 [==============================] - 14s 401ms/step - loss: 0.0946 - accuracy: 0.9715 - val_loss: 0.1632 - val_accuracy: 0.9522\n",
      "Epoch 17/40\n",
      "34/34 [==============================] - 14s 408ms/step - loss: 0.1221 - accuracy: 0.9605 - val_loss: 0.2152 - val_accuracy: 0.9338\n",
      "Epoch 18/40\n",
      "34/34 [==============================] - 14s 406ms/step - loss: 0.1416 - accuracy: 0.9568 - val_loss: 0.1718 - val_accuracy: 0.9412\n",
      "Epoch 19/40\n",
      "34/34 [==============================] - 14s 400ms/step - loss: 0.1117 - accuracy: 0.9678 - val_loss: 0.1723 - val_accuracy: 0.9449\n",
      "Epoch 20/40\n",
      "34/34 [==============================] - 14s 410ms/step - loss: 0.0649 - accuracy: 0.9807 - val_loss: 0.2023 - val_accuracy: 0.9375\n",
      "Epoch 21/40\n",
      "34/34 [==============================] - 14s 403ms/step - loss: 0.0634 - accuracy: 0.9807 - val_loss: 0.1885 - val_accuracy: 0.9596\n",
      "Epoch 22/40\n",
      "34/34 [==============================] - 14s 403ms/step - loss: 0.0693 - accuracy: 0.9770 - val_loss: 0.2275 - val_accuracy: 0.9265\n",
      "Epoch 23/40\n",
      "34/34 [==============================] - 14s 407ms/step - loss: 0.0696 - accuracy: 0.9798 - val_loss: 0.2256 - val_accuracy: 0.9412\n",
      "Epoch 24/40\n",
      "34/34 [==============================] - 14s 402ms/step - loss: 0.0847 - accuracy: 0.9724 - val_loss: 0.2256 - val_accuracy: 0.9449\n",
      "Epoch 25/40\n",
      "34/34 [==============================] - 14s 403ms/step - loss: 0.0549 - accuracy: 0.9816 - val_loss: 0.1715 - val_accuracy: 0.9522\n",
      "Epoch 26/40\n",
      "34/34 [==============================] - 14s 407ms/step - loss: 0.0372 - accuracy: 0.9899 - val_loss: 0.2875 - val_accuracy: 0.9301\n",
      "Epoch 27/40\n",
      "34/34 [==============================] - 14s 410ms/step - loss: 0.0181 - accuracy: 0.9963 - val_loss: 0.1974 - val_accuracy: 0.9522\n",
      "Epoch 28/40\n",
      "34/34 [==============================] - 14s 406ms/step - loss: 0.0356 - accuracy: 0.9899 - val_loss: 0.3072 - val_accuracy: 0.9338\n",
      "Epoch 29/40\n",
      "34/34 [==============================] - 14s 398ms/step - loss: 0.0452 - accuracy: 0.9881 - val_loss: 0.3206 - val_accuracy: 0.9154\n",
      "Epoch 30/40\n",
      "34/34 [==============================] - 14s 399ms/step - loss: 0.0330 - accuracy: 0.9917 - val_loss: 0.1643 - val_accuracy: 0.9632\n",
      "Epoch 31/40\n",
      "34/34 [==============================] - 14s 407ms/step - loss: 0.0291 - accuracy: 0.9917 - val_loss: 0.3392 - val_accuracy: 0.9412\n",
      "Epoch 32/40\n",
      "34/34 [==============================] - 14s 405ms/step - loss: 0.0279 - accuracy: 0.9881 - val_loss: 0.2606 - val_accuracy: 0.9375\n",
      "Epoch 33/40\n",
      "34/34 [==============================] - 14s 409ms/step - loss: 0.0581 - accuracy: 0.9825 - val_loss: 0.2047 - val_accuracy: 0.9559\n",
      "Epoch 34/40\n",
      "34/34 [==============================] - 14s 409ms/step - loss: 0.0229 - accuracy: 0.9917 - val_loss: 0.1912 - val_accuracy: 0.9522\n",
      "Epoch 35/40\n",
      "34/34 [==============================] - 14s 408ms/step - loss: 0.0167 - accuracy: 0.9936 - val_loss: 0.1944 - val_accuracy: 0.9559\n",
      "Epoch 36/40\n",
      "34/34 [==============================] - 14s 405ms/step - loss: 0.0257 - accuracy: 0.9917 - val_loss: 0.1817 - val_accuracy: 0.9596\n",
      "Epoch 37/40\n",
      "34/34 [==============================] - 14s 406ms/step - loss: 0.0161 - accuracy: 0.9945 - val_loss: 0.1690 - val_accuracy: 0.9449\n",
      "Epoch 38/40\n",
      "34/34 [==============================] - 14s 404ms/step - loss: 0.0143 - accuracy: 0.9945 - val_loss: 0.2117 - val_accuracy: 0.9522\n",
      "Epoch 39/40\n",
      "34/34 [==============================] - 14s 402ms/step - loss: 0.0062 - accuracy: 0.9991 - val_loss: 0.1977 - val_accuracy: 0.9632\n",
      "Epoch 40/40\n",
      "34/34 [==============================] - 14s 399ms/step - loss: 0.0121 - accuracy: 0.9945 - val_loss: 0.1575 - val_accuracy: 0.9706\n"
     ]
    }
   ],
   "source": [
    "# 定义优化器，代价函数，训练过程中计算准确率，设置一个较小的学习率\n",
    "model.compile(optimizer=SGD(lr=1e-3,momentum=0.9),loss='categorical_crossentropy',metrics=['accuracy'])\n",
    "\n",
    "# Tensorflow2.1版本之前可以使用fit_generator训练模型\n",
    "# history = model.fit_generator(train_generator,steps_per_epoch=len(train_generator),epochs=epochs,validation_data=test_generator,validation_steps=len(test_generator))\n",
    "\n",
    "# Tensorflow2.1版本(包括2.1)之后可以直接使用fit训练模型\n",
    "history = model.fit(x=train_generator,epochs=epochs,validation_data=test_generator)"
   ]
  },
  {
   "cell_type": "code",
   "execution_count": 15,
   "metadata": {},
   "outputs": [
    {
     "data": {
      "image/png": "[encoded data removed]",
      "text/plain": [
       "<matplotlib.figure.Figure at 0x1e52131cf60>"
      ]
     },
     "metadata": {},
     "output_type": "display_data"
    }
   ],
   "source": [
    "# 画出训练集准确率曲线图\n",
    "plt.plot(np.arange(epochs),history.history['accuracy'],c='b',label='train_accuracy')\n",
    "# 画出验证集准确率曲线图\n",
    "plt.plot(np.arange(epochs),history.history['val_accuracy'],c='y',label='val_accuracy')\n",
    "# 图例\n",
    "plt.legend()\n",
    "# x坐标描述\n",
    "plt.xlabel('epochs')\n",
    "# y坐标描述\n",
    "plt.ylabel('accuracy')\n",
    "# 显示图像\n",
    "plt.show()\n",
    "# 模型保存\n",
    "model.save('vgg16.h5')"
   ]
  },
  {
   "cell_type": "code",
   "execution_count": null,
   "metadata": {},
   "outputs": [],
   "source": []
  }
 ],
 "metadata": {
  "anaconda-cloud": {},
  "kernelspec": {
   "display_name": "Python 3",
   "language": "python",
   "name": "python3"
  },
  "language_info": {
   "codemirror_mode": {
    "name": "ipython",
    "version": 3
   },
   "file_extension": ".py",
   "mimetype": "text/x-python",
   "name": "python",
   "nbconvert_exporter": "python",
   "pygments_lexer": "ipython3",
   "version": "3.6.7"
  }
 },
 "nbformat": 4,
 "nbformat_minor": 1
}
