{
 "cells": [
  {
   "cell_type": "code",
   "execution_count": 1,
   "metadata": {},
   "outputs": [
    {
     "name": "stderr",
     "output_type": "stream",
     "text": [
      "/Users/qin/anaconda3/lib/python3.6/site-packages/h5py/__init__.py:36: FutureWarning: Conversion of the second argument of issubdtype from `float` to `np.floating` is deprecated. In future, it will be treated as `np.float64 == np.dtype(float).type`.\n",
      "  from ._conv import register_converters as _register_converters\n"
     ]
    }
   ],
   "source": [
    "import tensorflow as tf\n",
    "from tensorflow.keras.models import Sequential\n",
    "from tensorflow.keras.layers import Input,Dense,Dropout,Conv2D,MaxPool2D,Flatten\n",
    "from tensorflow.keras.optimizers import Adam\n",
    "from tensorflow.keras.models import Model"
   ]
  },
  {
   "cell_type": "code",
   "execution_count": 3,
   "metadata": {
    "scrolled": false
   },
   "outputs": [
    {
     "name": "stdout",
     "output_type": "stream",
     "text": [
      "Train on 60000 samples, validate on 10000 samples\n",
      "Epoch 1/2\n",
      "60000/60000 [==============================] - 83s 1ms/sample - loss: 0.3269 - accuracy: 0.9077 - val_loss: 0.0849 - val_accuracy: 0.9752\n",
      "Epoch 2/2\n",
      "60000/60000 [==============================] - 87s 1ms/sample - loss: 0.0893 - accuracy: 0.9730 - val_loss: 0.0528 - val_accuracy: 0.9825\n"
     ]
    },
    {
     "data": {
      "text/plain": [
       "<tensorflow.python.keras.callbacks.History at 0xb3ebcb588>"
      ]
     },
     "execution_count": 3,
     "metadata": {},
     "output_type": "execute_result"
    }
   ],
   "source": [
    "# 载入数据\n",
    "mnist = tf.keras.datasets.mnist\n",
    "# 载入数据，数据载入的时候就已经划分好训练集和测试集\n",
    "(x_train, y_train), (x_test, y_test) = mnist.load_data()\n",
    "# 这里要注意，在tensorflow中，在做卷积的时候需要把数据变成4维的格式\n",
    "# 这4个维度是(数据数量，图片高度，图片宽度，图片通道数)\n",
    "# 所以这里把数据reshape变成4维数据，黑白图片的通道数是1，彩色图片通道数是3\n",
    "x_train = x_train.reshape(-1,28,28,1)/255.0\n",
    "x_test = x_test.reshape(-1,28,28,1)/255.0\n",
    "# 把训练集和测试集的标签转为独热编码\n",
    "y_train = tf.keras.utils.to_categorical(y_train,num_classes=10)\n",
    "y_test = tf.keras.utils.to_categorical(y_test,num_classes=10)\n",
    "\n",
    "# 定义模型输入\n",
    "inputs = Input(shape=(28,28,1))\n",
    "x = Conv2D(filters=32,kernel_size=5,strides=1,padding='same',activation='relu')(inputs)\n",
    "x = MaxPool2D(pool_size=2,strides=2,padding='same')(x)\n",
    "x = Conv2D(64,5,strides=1,padding='same',activation='relu')(x)\n",
    "x = MaxPool2D(pool_size=2,strides=2,padding='same')(x)\n",
    "x = Flatten()(x)\n",
    "x = Dense(1024,activation='relu')(x)\n",
    "x = Dropout(0.5)(x)\n",
    "x = Dense(10,activation='softmax')(x)\n",
    "# 定义模型\n",
    "model = Model(inputs,x)\n",
    "\n",
    "# 定义优化器\n",
    "adam = Adam(lr=1e-4)\n",
    "# 定义优化器，loss function，训练过程中计算准确率\n",
    "model.compile(optimizer=adam,loss='categorical_crossentropy',metrics=['accuracy'])\n",
    "# 训练模型\n",
    "model.fit(x_train,y_train,batch_size=64,epochs=2,validation_data=(x_test, y_test))"
   ]
  },
  {
   "cell_type": "code",
   "execution_count": null,
   "metadata": {},
   "outputs": [],
   "source": []
  }
 ],
 "metadata": {
  "anaconda-cloud": {},
  "kernelspec": {
   "display_name": "Python 3",
   "language": "python",
   "name": "python3"
  },
  "language_info": {
   "codemirror_mode": {
    "name": "ipython",
    "version": 3
   },
   "file_extension": ".py",
   "mimetype": "text/x-python",
   "name": "python",
   "nbconvert_exporter": "python",
   "pygments_lexer": "ipython3",
   "version": "3.6.7"
  }
 },
 "nbformat": 4,
 "nbformat_minor": 1
}
