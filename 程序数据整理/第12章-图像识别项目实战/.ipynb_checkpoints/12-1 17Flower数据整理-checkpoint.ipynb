{
 "cells": [
  {
   "cell_type": "code",
   "execution_count": 3,
   "metadata": {},
   "outputs": [],
   "source": [
    "import os\n",
    "import shutil\n",
    "\n",
    "# 新建文件夹用于存放整理后的图片\n",
    "os.mkdir('new_17_flowers')\n",
    "for i in range(17):\n",
    "    # 17个种类新建17个文件夹0-16\n",
    "    os.mkdir('new_17_flowers'+'/'+'flower'+str(i))\n",
    "    \n",
    "# 循环所有花的图片    \n",
    "for i,path in enumerate(os.listdir('17flowers/jpg/')):\n",
    "    # 定义花的图片完整路径\n",
    "    image_path = '17flowers/jpg/' + path\n",
    "    # 复制到对应类别，每个类别80张图片\n",
    "    shutil.copyfile(image_path, 'new_17_flowers'+'/'+'flower'+str(i//80)+'/'+path)"
   ]
  },
  {
   "cell_type": "code",
   "execution_count": null,
   "metadata": {},
   "outputs": [],
   "source": []
  }
 ],
 "metadata": {
  "kernelspec": {
   "display_name": "Python 3",
   "language": "python",
   "name": "python3"
  },
  "language_info": {
   "codemirror_mode": {
    "name": "ipython",
    "version": 3
   },
   "file_extension": ".py",
   "mimetype": "text/x-python",
   "name": "python",
   "nbconvert_exporter": "python",
   "pygments_lexer": "ipython3",
   "version": "3.6.7"
  }
 },
 "nbformat": 4,
 "nbformat_minor": 2
}
