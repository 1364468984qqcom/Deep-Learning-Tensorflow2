{
 "cells": [
  {
   "cell_type": "code",
   "execution_count": 1,
   "metadata": {},
   "outputs": [
    {
     "name": "stderr",
     "output_type": "stream",
     "text": [
      "D:\\Anaconda3\\lib\\site-packages\\numpy\\_distributor_init.py:32: UserWarning: loaded more than 1 DLL from .libs:\n",
      "D:\\Anaconda3\\lib\\site-packages\\numpy\\.libs\\libopenblas.IPBC74C7KURV7CB2PKT5Z5FNR3SIBV4J.gfortran-win_amd64.dll\n",
      "D:\\Anaconda3\\lib\\site-packages\\numpy\\.libs\\libopenblas.PYQHXLVVQ7VESDPUVUADXEVJOBGHJPAY.gfortran-win_amd64.dll\n",
      "  stacklevel=1)\n"
     ]
    }
   ],
   "source": [
    "import os\n",
    "import random\n",
    "import shutil\n",
    "import numpy as np"
   ]
  },
  {
   "cell_type": "code",
   "execution_count": 2,
   "metadata": {},
   "outputs": [],
   "source": [
    "# 数据集路径\n",
    "DATASET_DIR = \"new_17_flowers\"\n",
    "# 数据切分后存放路径\n",
    "NEW_DIR = \"data\"\n",
    "# 测试集占比\n",
    "num_test = 0.2"
   ]
  },
  {
   "cell_type": "code",
   "execution_count": 3,
   "metadata": {},
   "outputs": [],
   "source": [
    "# 打乱所有种类数据，并分割训练集和测试集\n",
    "def shuffle_all_files(dataset_dir, new_dir, num_test):\n",
    "    # 先删除已有new_dir文件夹\n",
    "    if not os.path.exists(new_dir):\n",
    "        pass\n",
    "    else:\n",
    "        # 递归删除文件夹\n",
    "        shutil.rmtree(new_dir)\n",
    "    # 重新创建new_dir文件夹\n",
    "    os.makedirs(new_dir)\n",
    "    # 在new_dir文件夹目录下创建train文件夹\n",
    "    train_dir = os.path.join(new_dir, 'train')\n",
    "    os.makedirs(train_dir)\n",
    "    # 在new_dir文件夹目录下创建test文件夹\n",
    "    test_dir = os.path.join(new_dir, 'test')\n",
    "    os.makedirs(test_dir)\n",
    "    # 原始数据类别列表\n",
    "    directories = []\n",
    "    # 新训练集类别列表\n",
    "    train_directories = [] \n",
    "    # 新测试集类别列表\n",
    "    test_directories = [] \n",
    "    # 类别名称列表\n",
    "    class_names = []\n",
    "    # 循环所有类别\n",
    "    for filename in os.listdir(dataset_dir):\n",
    "        # 原始数据类别路径\n",
    "        path = os.path.join(dataset_dir, filename)\n",
    "        # 新训练集类别路径\n",
    "        train_path = os.path.join(train_dir, filename)\n",
    "        # 新测试集类别路径\n",
    "        test_path = os.path.join(test_dir, filename)\n",
    "        # 判断该路径是否为文件夹\n",
    "        if os.path.isdir(path):\n",
    "            # 加入原始数据类别列表\n",
    "            directories.append(path)\n",
    "            # 加入新训练集类别列表\n",
    "            train_directories.append(train_path)\n",
    "            # 新建类别文件夹\n",
    "            os.makedirs(train_path)\n",
    "            # 加入新测试集类别列表\n",
    "            test_directories.append(test_path)\n",
    "            # 新建类别文件夹\n",
    "            os.makedirs(test_path)\n",
    "            # 加入类别名称列表\n",
    "            class_names.append(filename)\n",
    "    print('类别列表：',class_names)\n",
    "    \n",
    "    # 循环每个分类的文件夹\n",
    "    for i in range(len(directories)):\n",
    "        # 保存原始图片路径\n",
    "        photo_filenames = []\n",
    "        # 保存新训练集图片路径\n",
    "        train_photo_filenames = []\n",
    "        # 保存新测试集图片路径\n",
    "        test_photo_filenames = []\n",
    "        # 得到所有图片的路径\n",
    "        for filename in os.listdir(directories[i]):\n",
    "            # 原始图片路径\n",
    "            path = os.path.join(directories[i], filename)\n",
    "            # 训练图片路径\n",
    "            train_path = os.path.join(train_directories[i], filename)\n",
    "            # 测试集图片路径\n",
    "            test_path = os.path.join(test_directories[i], filename)\n",
    "            # 保存图片路径\n",
    "            photo_filenames.append(path)\n",
    "            train_photo_filenames.append(train_path)\n",
    "            test_photo_filenames.append(test_path)\n",
    "        # list转array\n",
    "        photo_filenames = np.array(photo_filenames)\n",
    "        train_photo_filenames = np.array(train_photo_filenames)\n",
    "        test_photo_filenames = np.array(test_photo_filenames)\n",
    "        # 打乱索引\n",
    "        index = [i for i in range(len(photo_filenames))] \n",
    "        random.shuffle(index)\n",
    "        # 对3个list进行相同的打乱，保证在3个list中索引一致\n",
    "        photo_filenames = photo_filenames[index]\n",
    "        train_photo_filenames = train_photo_filenames[index]\n",
    "        test_photo_filenames = test_photo_filenames[index]\n",
    "        # 计算测试集数据个数\n",
    "        test_sample_index = int((1-num_test) * float(len(photo_filenames)))\n",
    "        # 复制测试集图片\n",
    "        for j in range(test_sample_index, len(photo_filenames)):\n",
    "            # 复制图片\n",
    "            shutil.copyfile(photo_filenames[j], test_photo_filenames[j])\n",
    "        # 复制训练集图片\n",
    "        for j in range(0, test_sample_index):\n",
    "            # 复制图片\n",
    "            shutil.copyfile(photo_filenames[j], train_photo_filenames[j])"
   ]
  },
  {
   "cell_type": "code",
   "execution_count": 4,
   "metadata": {},
   "outputs": [
    {
     "name": "stdout",
     "output_type": "stream",
     "text": [
      "类别列表： ['flower0', 'flower1', 'flower10', 'flower11', 'flower12', 'flower13', 'flower14', 'flower15', 'flower16', 'flower2', 'flower3', 'flower4', 'flower5', 'flower6', 'flower7', 'flower8', 'flower9']\n"
     ]
    }
   ],
   "source": [
    "# 打乱并切分数据集\n",
    "shuffle_all_files(DATASET_DIR, NEW_DIR, num_test)"
   ]
  },
  {
   "cell_type": "code",
   "execution_count": null,
   "metadata": {},
   "outputs": [],
   "source": []
  }
 ],
 "metadata": {
  "kernelspec": {
   "display_name": "Python 3",
   "language": "python",
   "name": "python3"
  },
  "language_info": {
   "codemirror_mode": {
    "name": "ipython",
    "version": 3
   },
   "file_extension": ".py",
   "mimetype": "text/x-python",
   "name": "python",
   "nbconvert_exporter": "python",
   "pygments_lexer": "ipython3",
   "version": "3.6.7"
  }
 },
 "nbformat": 4,
 "nbformat_minor": 2
}
